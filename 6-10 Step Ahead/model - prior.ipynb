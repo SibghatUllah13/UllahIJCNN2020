{
 "cells": [
  {
   "cell_type": "code",
   "execution_count": 1,
   "metadata": {},
   "outputs": [],
   "source": [
    "import numpy as np\n",
    "import math\n",
    "import os\n",
    "import pickle\n",
    "import pandas as pd\n",
    "import torch\n",
    "import torch.nn as nn\n",
    "import torch.utils\n",
    "import torch.utils.data\n",
    "from torchvision import datasets, transforms\n",
    "from torch.autograd import Variable\n",
    "import matplotlib.pyplot as plt\n",
    "\n",
    "def _rmse (x, x_hat):\n",
    "    x = x[:,1:]\n",
    "    x_hat = x_hat[:,1:]\n",
    "    return np.sqrt(np.mean(((x-x_hat)**2)))"
   ]
  },
  {
   "cell_type": "markdown",
   "metadata": {},
   "source": [
    "## Load Data Sets in Memory"
   ]
  },
  {
   "cell_type": "code",
   "execution_count": 2,
   "metadata": {},
   "outputs": [],
   "source": [
    "path = 'Path to the Data'\n",
    "with open(path+'train_resampled.pickle', 'rb') as handle:\n",
    "    train_resampled = pickle.load(handle)\n",
    "with open(path+'test_resampled.pickle', 'rb') as handle:\n",
    "    test_resampled = pickle.load(handle)\n",
    "with open(path+'dis_train.pickle', 'rb') as handle:\n",
    "    dis_train = pickle.load(handle)\n",
    "with open(path+'dis_test.pickle', 'rb') as handle:\n",
    "    dis_test = pickle.load(handle)\n",
    "with open(path+'Scalar.pickle', 'rb') as handle:\n",
    "    Scalar = pickle.load(handle)\n",
    "train_resampled = train_resampled[:13400]\n",
    "dis_train = dis_train[:13400]\n",
    "train_resampled = [train_resampled[idx].values[:-10] for idx in range(len(train_resampled))]\n",
    "test_resampled = [test_resampled[idx].values[:-10] for idx in range(len(test_resampled))]"
   ]
  },
  {
   "cell_type": "markdown",
   "metadata": {},
   "source": [
    "## Variational Recurrent Neural Network (VRNN-I)"
   ]
  },
  {
   "cell_type": "code",
   "execution_count": 3,
   "metadata": {},
   "outputs": [],
   "source": [
    "class VRNN(nn.Module):\n",
    "    \n",
    "    def __init__(self, x_dim, h_dim, z_dim, n_layers, bias = True ):\n",
    "        \n",
    "        super(VRNN, self).__init__()\n",
    "\n",
    "        self.x_dim = x_dim\n",
    "        self.h_dim = h_dim\n",
    "        self.z_dim = z_dim\n",
    "        self.n_layers = n_layers\n",
    "\n",
    "        #feature-extracting transformations\n",
    "        self.phi_x = nn.Sequential( nn.Linear(self.x_dim , self.h_dim), nn.Tanh(), \n",
    "                                   nn.Linear(self.h_dim, self.h_dim), nn.Tanh())\n",
    "        self.phi_z = nn.Sequential( nn.Linear(self.z_dim, self.h_dim), nn.Tanh())\n",
    "\n",
    "        #encoder\n",
    "        self.enc = nn.Sequential( nn.Linear(self.h_dim + self.h_dim * self.n_layers , \n",
    "                                            self.h_dim), nn.Tanh(), nn.Linear(self.h_dim, self.h_dim), nn.Tanh())\n",
    "        \n",
    "        self.enc_mean = nn.Sequential( nn.Linear(self.h_dim, self.z_dim), nn.Tanh())\n",
    "        self.enc_std = nn.Sequential( nn.Linear(self.h_dim, self.z_dim), nn.Sigmoid())\n",
    "\n",
    "        \n",
    "        #decoder\n",
    "        self.dec = nn.Sequential( nn.Linear(self.h_dim + self.h_dim * self.n_layers , self.h_dim), nn.Tanh(), \n",
    "                                 nn.Linear(self.h_dim, self.h_dim), nn.Tanh())\n",
    "        self.dec_std = nn.Sequential( nn.Linear(self.h_dim, self.x_dim), nn.Sigmoid())\n",
    "        #self.dec_mean = nn.Linear(h_dim, x_dim)\n",
    "        self.dec_mean = nn.Sequential( nn.Linear( self.h_dim, self.x_dim ), nn.Tanh())\n",
    "\n",
    "        #recurrence\n",
    "        self.rnn = nn.GRU ( self.h_dim + self.h_dim + self.n_layers * self.h_dim, self.h_dim, \n",
    "                           self.n_layers, bias , batch_first = True )\n",
    "        \n",
    "    def encode (self, phi_x_t , h):\n",
    "        phi_x_t = self._concatenate (phi_x_t , h)\n",
    "        enc_t = self.enc(phi_x_t)\n",
    "        enc_mean_t = self.enc_mean(enc_t)\n",
    "        enc_std_t = self.enc_std(enc_t)\n",
    "        return enc_mean_t , enc_std_t\n",
    "        \n",
    "    \n",
    "    def decode (self, phi_z_t , h):\n",
    "        phi_z_t = self._concatenate (phi_z_t , h)\n",
    "        dec_t = self.dec(phi_z_t)\n",
    "        dec_mean_t = self.dec_mean(dec_t)\n",
    "        dec_std_t = self.dec_std(dec_t)\n",
    "        return dec_mean_t , dec_std_t\n",
    "        \n",
    "    def forward(self, x):\n",
    "        all_enc_mean, all_enc_std = [], []\n",
    "        all_dec_mean, all_dec_std = [], []\n",
    "        kld_loss = 0\n",
    "        nll_loss = 0\n",
    "\n",
    "        h = Variable(torch.zeros(self.n_layers, x.size(0), self.h_dim))\n",
    "        \n",
    "        for t in range(x.size(1)):\n",
    "            \n",
    "            phi_x_t = self.phi_x(x[:,t,:].float())\n",
    "            #encoder\n",
    "            enc_mean_t , enc_std_t = self.encode(phi_x_t , h)\n",
    "            #sampling and reparameterization\n",
    "            z_t = self._reparameterized_sample(enc_mean_t, enc_std_t)\n",
    "            phi_z_t = self.phi_z(z_t)\n",
    "            #decoder\n",
    "            dec_mean_t , dec_std_t = self.decode(phi_z_t , h)\n",
    "            \n",
    "            #recurrence\n",
    "            temp = self._concatenate ( torch.cat ( [ phi_x_t , phi_z_t ] , 1) , h )\n",
    "            _, h = self.rnn(temp.reshape(temp.shape[0] , 1 , temp.shape[1]))\n",
    "\n",
    "            #computing losses enc_std_t.mul(0.5).exp_()\n",
    "            #kld_loss += self._kld_gauss(enc_mean_t, enc_std_t, prior_mean_t, prior_std_t)\n",
    "            kld_loss += self._kld_gauss(enc_mean_t, enc_std_t)\n",
    "            nll_loss += self._nll_gauss(dec_mean_t, dec_std_t, x[:,t,:])\n",
    "                \n",
    "            all_enc_std.append(enc_std_t)\n",
    "            all_enc_mean.append(enc_mean_t)\n",
    "            all_dec_mean.append(dec_mean_t)\n",
    "            all_dec_std.append(dec_std_t)\n",
    "\n",
    "\n",
    "        return kld_loss, nll_loss,(all_enc_mean, all_enc_std),(all_dec_mean, all_dec_std)\n",
    "    \n",
    "    def _reparameterized_sample(self, mean, logvar):\n",
    "        \"\"\"using std to sample\"\"\"\n",
    "        std = logvar.mul(0.5).exp_()\n",
    "        eps = torch.FloatTensor(std.size()).normal_()\n",
    "        eps = Variable(eps)\n",
    "        return eps.mul(std).add_(mean)\n",
    "\n",
    "\n",
    "    def _kld_gauss(self, mu, logvar):\n",
    "        \"\"\"Using std to compute KLD\"\"\"\n",
    "        return -0.5 * torch.sum(1 + logvar - mu.pow(2) - logvar.exp())\n",
    "        \n",
    "\n",
    "    def _nll_gauss(self, mean, logvar , x):\n",
    "        return torch.sum( 0.5 * np.log (2 * np.pi) + 0.5 * logvar + (x-mean)**2 / (2 *  torch.exp(logvar)) )\n",
    "    \n",
    "    def _concatenate (self , a , b) :\n",
    "        for i in range(len(b)):\n",
    "            a = torch.cat([a , b[i]] , 1)\n",
    "        return a"
   ]
  },
  {
   "cell_type": "markdown",
   "metadata": {},
   "source": [
    "## Configure the Hyper-Parameters and Model"
   ]
  },
  {
   "cell_type": "code",
   "execution_count": 4,
   "metadata": {},
   "outputs": [],
   "source": [
    "#hyperparameters\n",
    "x_dim = 7\n",
    "h_dim = 50\n",
    "z_dim = 2\n",
    "n_layers =  2\n",
    "n_epochs = 5\n",
    "clip = 10\n",
    "learning_rate = 1e-3\n",
    "batch_size = 100\n",
    "seed = 100\n",
    "print_every = 10\n",
    "save_every = 10\n",
    "#manual seed\n",
    "torch.manual_seed(seed)\n",
    "#init model + optimizer + datasets\n",
    "train_loader = torch.utils.data.DataLoader ( dataset = train_resampled ,  batch_size = 100 , shuffle= True)\n",
    "test_loader = torch.utils.data.DataLoader (  dataset = test_resampled , shuffle= True)\n",
    "model = VRNN(x_dim, h_dim, z_dim, n_layers)\n",
    "optimizer = torch.optim.Adam(model.parameters(), lr=learning_rate)"
   ]
  },
  {
   "cell_type": "markdown",
   "metadata": {},
   "source": [
    "## Train and Test the Model"
   ]
  },
  {
   "cell_type": "code",
   "execution_count": 5,
   "metadata": {},
   "outputs": [],
   "source": [
    "def train(epoch):\n",
    "    train_loss = 0\n",
    "    epoch_loss = np.zeros(int(len (train_resampled) / batch_size ))\n",
    "    epoch_div = np.zeros(int(len (train_resampled) / batch_size))\n",
    "    for batch_idx, (data) in enumerate(train_loader):\n",
    "        \n",
    "        data = Variable(data)\n",
    "        #forward + backward + optimize\n",
    "        optimizer.zero_grad()\n",
    "        kld_loss, nll_loss, _, _ = model(data)\n",
    "        epoch_loss [batch_idx] = nll_loss\n",
    "        epoch_div [batch_idx] = kld_loss\n",
    "        loss = kld_loss + nll_loss\n",
    "        loss.backward()\n",
    "        nn.utils.clip_grad_norm_(model.parameters(), clip)\n",
    "        optimizer.step()\n",
    "        #printing\n",
    "        if batch_idx % print_every == 0:\n",
    "            print('Train Epoch: {} [{}/{} ({:.0f}%)]\\t KLD Loss: {:.6f} \\t NLL Loss: {:.6f}'.format(\n",
    "                epoch, batch_idx * len(data), len(train_loader.dataset),\n",
    "                100. * batch_idx / len(train_loader),\n",
    "                kld_loss.data / batch_size,\n",
    "                nll_loss.data / batch_size))\n",
    "\n",
    "            \n",
    "\n",
    "        train_loss += loss.data\n",
    "    print('====> Epoch: {} Average loss: {:.4f}'.format(\n",
    "        epoch, train_loss / len(train_loader.dataset)))\n",
    "    return epoch_loss, epoch_div\n",
    "    \n",
    "def test(epoch):\n",
    "    \"\"\"uses test data to evaluate \n",
    "    likelihood of the model\"\"\"\n",
    "    mean_kld_loss, mean_nll_loss = 0, 0\n",
    "    epoch_loss = np.zeros(len(test_resampled))\n",
    "    epoch_div = np.zeros(len(test_resampled))\n",
    "    for i, (data) in enumerate(test_loader):                                           \n",
    "        \n",
    "        data = Variable(data.reshape(1,38,7))\n",
    "        kld_loss, nll_loss, _, _ = model(data)\n",
    "        epoch_div [i] = kld_loss\n",
    "        epoch_loss [i] = nll_loss\n",
    "        mean_kld_loss += kld_loss.data\n",
    "        mean_nll_loss += nll_loss.data\n",
    "\n",
    "    mean_kld_loss /= len(test_loader.dataset)\n",
    "    mean_nll_loss /= len(test_loader.dataset)\n",
    "\n",
    "    print('====> Test set loss: KLD Loss = {:.4f}, NLL Loss = {:.4f} '.format(\n",
    "        mean_kld_loss, mean_nll_loss))\n",
    "    return epoch_loss, epoch_div"
   ]
  },
  {
   "cell_type": "markdown",
   "metadata": {},
   "source": [
    "## Run the Training and Validation/Testing"
   ]
  },
  {
   "cell_type": "code",
   "execution_count": 6,
   "metadata": {},
   "outputs": [
    {
     "name": "stdout",
     "output_type": "stream",
     "text": [
      "Train Epoch: 1 [0/13400 (0%)]\t KLD Loss: 6.492278 \t NLL Loss: 391.430524\n",
      "Train Epoch: 1 [1000/13400 (7%)]\t KLD Loss: 3.129839 \t NLL Loss: 328.156787\n",
      "Train Epoch: 1 [2000/13400 (15%)]\t KLD Loss: 0.675375 \t NLL Loss: 294.687666\n",
      "Train Epoch: 1 [3000/13400 (22%)]\t KLD Loss: 0.201929 \t NLL Loss: 277.849066\n",
      "Train Epoch: 1 [4000/13400 (30%)]\t KLD Loss: 0.102713 \t NLL Loss: 266.148385\n",
      "Train Epoch: 1 [5000/13400 (37%)]\t KLD Loss: 0.056690 \t NLL Loss: 258.616548\n",
      "Train Epoch: 1 [6000/13400 (45%)]\t KLD Loss: 0.033186 \t NLL Loss: 254.128161\n",
      "Train Epoch: 1 [7000/13400 (52%)]\t KLD Loss: 0.020285 \t NLL Loss: 251.559778\n",
      "Train Epoch: 1 [8000/13400 (60%)]\t KLD Loss: 0.015460 \t NLL Loss: 250.166963\n",
      "Train Epoch: 1 [9000/13400 (67%)]\t KLD Loss: 0.008251 \t NLL Loss: 249.384873\n",
      "Train Epoch: 1 [10000/13400 (75%)]\t KLD Loss: 0.004690 \t NLL Loss: 248.946918\n",
      "Train Epoch: 1 [11000/13400 (82%)]\t KLD Loss: 0.003964 \t NLL Loss: 248.610104\n",
      "Train Epoch: 1 [12000/13400 (90%)]\t KLD Loss: 0.002069 \t NLL Loss: 247.085084\n",
      "Train Epoch: 1 [13000/13400 (97%)]\t KLD Loss: 0.004353 \t NLL Loss: 246.108634\n",
      "====> Epoch: 1 Average loss: 268.8147\n",
      "====> Test set loss: KLD Loss = 0.0043, NLL Loss = 245.3251 \n",
      "Train Epoch: 2 [0/13400 (0%)]\t KLD Loss: 0.004325 \t NLL Loss: 245.351071\n",
      "Train Epoch: 2 [1000/13400 (7%)]\t KLD Loss: 0.002384 \t NLL Loss: 245.139867\n",
      "Train Epoch: 2 [2000/13400 (15%)]\t KLD Loss: 0.003303 \t NLL Loss: 244.998311\n",
      "Train Epoch: 2 [3000/13400 (22%)]\t KLD Loss: 0.022616 \t NLL Loss: 245.082258\n",
      "Train Epoch: 2 [4000/13400 (30%)]\t KLD Loss: 0.003067 \t NLL Loss: 244.832246\n",
      "Train Epoch: 2 [5000/13400 (37%)]\t KLD Loss: 0.009000 \t NLL Loss: 244.759169\n",
      "Train Epoch: 2 [6000/13400 (45%)]\t KLD Loss: 0.004238 \t NLL Loss: 244.910153\n",
      "Train Epoch: 2 [7000/13400 (52%)]\t KLD Loss: 0.018078 \t NLL Loss: 245.281570\n",
      "Train Epoch: 2 [8000/13400 (60%)]\t KLD Loss: 0.006862 \t NLL Loss: 244.686236\n",
      "Train Epoch: 2 [9000/13400 (67%)]\t KLD Loss: 0.007835 \t NLL Loss: 244.668901\n",
      "Train Epoch: 2 [10000/13400 (75%)]\t KLD Loss: 0.005951 \t NLL Loss: 244.649664\n",
      "Train Epoch: 2 [11000/13400 (82%)]\t KLD Loss: 0.004660 \t NLL Loss: 244.632212\n",
      "Train Epoch: 2 [12000/13400 (90%)]\t KLD Loss: 0.016649 \t NLL Loss: 244.611078\n",
      "Train Epoch: 2 [13000/13400 (97%)]\t KLD Loss: 0.005658 \t NLL Loss: 244.608716\n",
      "====> Epoch: 2 Average loss: 244.8204\n",
      "====> Test set loss: KLD Loss = 0.0058, NLL Loss = 244.6085 \n",
      "Train Epoch: 3 [0/13400 (0%)]\t KLD Loss: 0.005836 \t NLL Loss: 244.607223\n",
      "Train Epoch: 3 [1000/13400 (7%)]\t KLD Loss: 0.000652 \t NLL Loss: 244.596193\n",
      "Train Epoch: 3 [2000/13400 (15%)]\t KLD Loss: 0.000785 \t NLL Loss: 244.581278\n",
      "Train Epoch: 3 [3000/13400 (22%)]\t KLD Loss: 0.003437 \t NLL Loss: 244.599275\n",
      "Train Epoch: 3 [4000/13400 (30%)]\t KLD Loss: 0.011268 \t NLL Loss: 244.563956\n",
      "Train Epoch: 3 [5000/13400 (37%)]\t KLD Loss: 0.002938 \t NLL Loss: 244.571490\n",
      "Train Epoch: 3 [6000/13400 (45%)]\t KLD Loss: 0.002414 \t NLL Loss: 244.546738\n",
      "Train Epoch: 3 [7000/13400 (52%)]\t KLD Loss: 0.000845 \t NLL Loss: 244.539688\n",
      "Train Epoch: 3 [8000/13400 (60%)]\t KLD Loss: 0.001266 \t NLL Loss: 244.528316\n",
      "Train Epoch: 3 [9000/13400 (67%)]\t KLD Loss: 0.000372 \t NLL Loss: 244.535767\n",
      "Train Epoch: 3 [10000/13400 (75%)]\t KLD Loss: 0.000354 \t NLL Loss: 244.524792\n",
      "Train Epoch: 3 [11000/13400 (82%)]\t KLD Loss: 0.000352 \t NLL Loss: 244.530195\n",
      "Train Epoch: 3 [12000/13400 (90%)]\t KLD Loss: 0.000337 \t NLL Loss: 244.532680\n",
      "Train Epoch: 3 [13000/13400 (97%)]\t KLD Loss: 0.000306 \t NLL Loss: 244.510184\n",
      "====> Epoch: 3 Average loss: 244.5559\n",
      "====> Test set loss: KLD Loss = 0.0003, NLL Loss = 244.5117 \n",
      "Train Epoch: 4 [0/13400 (0%)]\t KLD Loss: 0.000309 \t NLL Loss: 244.510320\n",
      "Train Epoch: 4 [1000/13400 (7%)]\t KLD Loss: 0.000290 \t NLL Loss: 244.526157\n",
      "Train Epoch: 4 [2000/13400 (15%)]\t KLD Loss: 0.000278 \t NLL Loss: 244.502808\n",
      "Train Epoch: 4 [3000/13400 (22%)]\t KLD Loss: 0.000266 \t NLL Loss: 244.524849\n",
      "Train Epoch: 4 [4000/13400 (30%)]\t KLD Loss: 0.000402 \t NLL Loss: 244.505237\n",
      "Train Epoch: 4 [5000/13400 (37%)]\t KLD Loss: 0.000366 \t NLL Loss: 244.501824\n",
      "Train Epoch: 4 [6000/13400 (45%)]\t KLD Loss: 0.000268 \t NLL Loss: 244.497680\n",
      "Train Epoch: 4 [7000/13400 (52%)]\t KLD Loss: 0.000268 \t NLL Loss: 244.505555\n",
      "Train Epoch: 4 [8000/13400 (60%)]\t KLD Loss: 0.000237 \t NLL Loss: 244.491926\n",
      "Train Epoch: 4 [9000/13400 (67%)]\t KLD Loss: 0.000214 \t NLL Loss: 244.504099\n",
      "Train Epoch: 4 [10000/13400 (75%)]\t KLD Loss: 0.000208 \t NLL Loss: 244.496032\n",
      "Train Epoch: 4 [11000/13400 (82%)]\t KLD Loss: 0.000312 \t NLL Loss: 244.499707\n",
      "Train Epoch: 4 [12000/13400 (90%)]\t KLD Loss: 0.000276 \t NLL Loss: 244.493782\n",
      "Train Epoch: 4 [13000/13400 (97%)]\t KLD Loss: 0.000223 \t NLL Loss: 244.489156\n",
      "====> Epoch: 4 Average loss: 244.5023\n",
      "====> Test set loss: KLD Loss = 0.0002, NLL Loss = 244.4935 \n",
      "Train Epoch: 5 [0/13400 (0%)]\t KLD Loss: 0.000185 \t NLL Loss: 244.492231\n",
      "Train Epoch: 5 [1000/13400 (7%)]\t KLD Loss: 0.000198 \t NLL Loss: 244.479912\n",
      "Train Epoch: 5 [2000/13400 (15%)]\t KLD Loss: 0.000174 \t NLL Loss: 244.493810\n",
      "Train Epoch: 5 [3000/13400 (22%)]\t KLD Loss: 0.000197 \t NLL Loss: 244.479170\n",
      "Train Epoch: 5 [4000/13400 (30%)]\t KLD Loss: 0.000230 \t NLL Loss: 244.481298\n",
      "Train Epoch: 5 [5000/13400 (37%)]\t KLD Loss: 0.000166 \t NLL Loss: 244.500582\n",
      "Train Epoch: 5 [6000/13400 (45%)]\t KLD Loss: 0.000156 \t NLL Loss: 244.484592\n",
      "Train Epoch: 5 [7000/13400 (52%)]\t KLD Loss: 0.000169 \t NLL Loss: 244.474044\n",
      "Train Epoch: 5 [8000/13400 (60%)]\t KLD Loss: 0.000248 \t NLL Loss: 244.496092\n",
      "Train Epoch: 5 [9000/13400 (67%)]\t KLD Loss: 0.000174 \t NLL Loss: 244.488421\n",
      "Train Epoch: 5 [10000/13400 (75%)]\t KLD Loss: 0.000138 \t NLL Loss: 244.478656\n",
      "Train Epoch: 5 [11000/13400 (82%)]\t KLD Loss: 0.000135 \t NLL Loss: 244.470600\n",
      "Train Epoch: 5 [12000/13400 (90%)]\t KLD Loss: 0.000286 \t NLL Loss: 244.478802\n",
      "Train Epoch: 5 [13000/13400 (97%)]\t KLD Loss: 0.000127 \t NLL Loss: 244.473265\n",
      "====> Epoch: 5 Average loss: 244.4805\n",
      "====> Test set loss: KLD Loss = 0.0001, NLL Loss = 244.4745 \n"
     ]
    }
   ],
   "source": [
    "train_error = np.zeros([n_epochs , int(len (train_resampled) / batch_size ) ])\n",
    "train_div = np.zeros([n_epochs , int(len (train_resampled) / batch_size ) ])\n",
    "test_error , test_div  = np.zeros([n_epochs , len(test_resampled)]) , np.zeros([n_epochs , len(test_resampled)]) \n",
    "for epoch in range(1, n_epochs + 1):\n",
    "    tr = train(epoch)\n",
    "    train_error [epoch-1 , :] = tr [0]\n",
    "    train_div [epoch-1 , :] = tr [1] \n",
    "    te = test(epoch)\n",
    "    test_error [epoch-1 , :] = te [0]\n",
    "    test_div [epoch-1 , :] = te [1]"
   ]
  },
  {
   "cell_type": "markdown",
   "metadata": {},
   "source": [
    "## Save the Training Data, Model, Error"
   ]
  },
  {
   "cell_type": "code",
   "execution_count": 7,
   "metadata": {},
   "outputs": [],
   "source": [
    "with open(path +'P_train_error.pickle', 'wb') as handle:\n",
    "    pickle.dump(train_error, handle, protocol=pickle.HIGHEST_PROTOCOL)\n",
    "with open(path +'P_test_error.pickle', 'wb') as handle:\n",
    "    pickle.dump(test_error, handle, protocol=pickle.HIGHEST_PROTOCOL)\n",
    "with open(path +'P_train_div.pickle', 'wb') as handle:\n",
    "    pickle.dump(train_div, handle, protocol=pickle.HIGHEST_PROTOCOL)\n",
    "with open(path +'P_test_div.pickle', 'wb') as handle:\n",
    "    pickle.dump(test_div, handle, protocol=pickle.HIGHEST_PROTOCOL)\n",
    "with open(path +'P_Model.pickle', 'wb') as handle:\n",
    "    pickle.dump(model, handle, protocol=pickle.HIGHEST_PROTOCOL)\n",
    "with open(path +'P_train_loader.pickle', 'wb') as handle:\n",
    "    pickle.dump(train_loader, handle, protocol=pickle.HIGHEST_PROTOCOL)\n",
    "with open(path +'P_test_loader.pickle', 'wb') as handle:\n",
    "    pickle.dump(test_loader, handle, protocol=pickle.HIGHEST_PROTOCOL)"
   ]
  },
  {
   "cell_type": "markdown",
   "metadata": {},
   "source": [
    "## Reconstruct & Forecast"
   ]
  },
  {
   "cell_type": "code",
   "execution_count": 8,
   "metadata": {},
   "outputs": [],
   "source": [
    "path = 'Path to the Data'\n",
    "with open(path +'test_resampled.pickle', 'rb') as handle:\n",
    "    test_resampled = pickle.load(handle)\n",
    "test_resampled = [test_resampled[idx].values for idx in range(len(test_resampled))]\n",
    "result =  [ model (torch.tensor (test_resampled[idx]).reshape(1,48,7)) for idx in range(len(test_resampled)) ]\n",
    "torch.manual_seed(seed)\n",
    "dist = [ torch.distributions.normal.Normal (torch.cat(result[idx][3][0]) , torch.cat(result[idx][3][1]).mul(0.5).exp_()) for idx in range(len(result))]\n",
    "recon_x = [ dist[idx].sample((10000,)).mean(0) for idx in range(len(dist)) ]"
   ]
  },
  {
   "cell_type": "markdown",
   "metadata": {},
   "source": [
    "## 6 Step Ahead"
   ]
  },
  {
   "cell_type": "code",
   "execution_count": 9,
   "metadata": {},
   "outputs": [
    {
     "name": "stdout",
     "output_type": "stream",
     "text": [
      "Average RMSE for Test Data is: 0.01064258081162316\n",
      "Variance of RMSE for Test Data is: 0.0013249550106294446\n"
     ]
    }
   ],
   "source": [
    "error = [ _rmse(test_resampled[idx][[38,39,40,41,42,43],:] , np.array(recon_x[idx][[38,39,40,41,42,43],:])) for idx in range(len(test_resampled)) ]\n",
    "error = pd.DataFrame (error)\n",
    "error = error.mean(axis = 1)\n",
    "print ('Average RMSE for Test Data is: '+str(error.mean()))\n",
    "print ('Variance of RMSE for Test Data is: '+str(error.std()))"
   ]
  },
  {
   "cell_type": "markdown",
   "metadata": {},
   "source": [
    "## 7 Step Ahead"
   ]
  },
  {
   "cell_type": "code",
   "execution_count": 10,
   "metadata": {},
   "outputs": [
    {
     "name": "stdout",
     "output_type": "stream",
     "text": [
      "Average RMSE for Test Data is: 0.010645723859168503\n",
      "Variance of RMSE for Test Data is: 0.001242681271339412\n"
     ]
    }
   ],
   "source": [
    "error = [ _rmse(test_resampled[idx][[38,39,40,41,42,43,44],:] , np.array(recon_x[idx][[38,39,40,41,42,43,44],:])) for idx in range(len(test_resampled)) ]\n",
    "error = pd.DataFrame (error)\n",
    "error = error.mean(axis = 1)\n",
    "print ('Average RMSE for Test Data is: '+str(error.mean()))\n",
    "print ('Variance of RMSE for Test Data is: '+str(error.std()))"
   ]
  },
  {
   "cell_type": "markdown",
   "metadata": {},
   "source": [
    "## 8 Step Ahead"
   ]
  },
  {
   "cell_type": "code",
   "execution_count": 11,
   "metadata": {},
   "outputs": [
    {
     "name": "stdout",
     "output_type": "stream",
     "text": [
      "Average RMSE for Test Data is: 0.010661440929479743\n",
      "Variance of RMSE for Test Data is: 0.0011845293038116448\n"
     ]
    }
   ],
   "source": [
    "error = [ _rmse(test_resampled[idx][[38,39,40,41,42,43,44,45],:] , np.array(recon_x[idx][[38,39,40,41,42,43,44,45],:])) for idx in range(len(test_resampled)) ]\n",
    "error = pd.DataFrame (error)\n",
    "error = error.mean(axis = 1)\n",
    "print ('Average RMSE for Test Data is: '+str(error.mean()))\n",
    "print ('Variance of RMSE for Test Data is: '+str(error.std()))"
   ]
  },
  {
   "cell_type": "markdown",
   "metadata": {},
   "source": [
    "## 9 Step Ahead"
   ]
  },
  {
   "cell_type": "code",
   "execution_count": 12,
   "metadata": {},
   "outputs": [
    {
     "name": "stdout",
     "output_type": "stream",
     "text": [
      "Average RMSE for Test Data is: 0.010667518114034859\n",
      "Variance of RMSE for Test Data is: 0.001132223567263714\n"
     ]
    }
   ],
   "source": [
    "error = [ _rmse(test_resampled[idx][[38,39,40,41,42,43,44,45,46],:] , np.array(recon_x[idx][[38,39,40,41,42,43,44,45,46],:])) for idx in range(len(test_resampled)) ]\n",
    "error = pd.DataFrame (error)\n",
    "error = error.mean(axis = 1)\n",
    "print ('Average RMSE for Test Data is: '+str(error.mean()))\n",
    "print ('Variance of RMSE for Test Data is: '+str(error.std()))"
   ]
  },
  {
   "cell_type": "markdown",
   "metadata": {},
   "source": [
    "## 10 Step Ahead"
   ]
  },
  {
   "cell_type": "code",
   "execution_count": 13,
   "metadata": {},
   "outputs": [
    {
     "name": "stdout",
     "output_type": "stream",
     "text": [
      "Average RMSE for Test Data is: 0.010663876405104272\n",
      "Variance of RMSE for Test Data is: 0.001081377778528605\n"
     ]
    }
   ],
   "source": [
    "error = [ _rmse(test_resampled[idx][[38,39,40,41,42,43,44,45,46,47],:] , np.array(recon_x[idx][[38,39,40,41,42,43,44,45,46,47],:])) for idx in range(len(test_resampled)) ]\n",
    "error = pd.DataFrame (error)\n",
    "error = error.mean(axis = 1)\n",
    "print ('Average RMSE for Test Data is: '+str(error.mean()))\n",
    "print ('Variance of RMSE for Test Data is: '+str(error.std()))"
   ]
  }
 ],
 "metadata": {
  "kernelspec": {
   "display_name": "Python 3",
   "language": "python",
   "name": "python3"
  },
  "language_info": {
   "codemirror_mode": {
    "name": "ipython",
    "version": 3
   },
   "file_extension": ".py",
   "mimetype": "text/x-python",
   "name": "python",
   "nbconvert_exporter": "python",
   "pygments_lexer": "ipython3",
   "version": "3.7.0"
  }
 },
 "nbformat": 4,
 "nbformat_minor": 2
}
