{
 "cells": [
  {
   "cell_type": "code",
   "execution_count": 1,
   "metadata": {},
   "outputs": [],
   "source": [
    "import numpy as np\n",
    "import math\n",
    "import os\n",
    "import pickle\n",
    "import pandas as pd\n",
    "import torch\n",
    "import torch.nn as nn\n",
    "import torch.utils\n",
    "import torch.utils.data\n",
    "from torchvision import datasets, transforms\n",
    "from torch.autograd import Variable\n",
    "import matplotlib.pyplot as plt\n",
    "\n",
    "def _rmse (x, x_hat):\n",
    "    x = x[:,1:]\n",
    "    x_hat = x_hat[:,1:]\n",
    "    return np.sqrt(np.mean(((x-x_hat)**2)))"
   ]
  },
  {
   "cell_type": "markdown",
   "metadata": {},
   "source": [
    "## Load Data Sets in Memory"
   ]
  },
  {
   "cell_type": "code",
   "execution_count": 2,
   "metadata": {},
   "outputs": [],
   "source": [
    "path = 'Path to the Data'\n",
    "with open(path+'train_resampled.pickle', 'rb') as handle:\n",
    "    train_resampled = pickle.load(handle)\n",
    "with open(path+'test_resampled.pickle', 'rb') as handle:\n",
    "    test_resampled = pickle.load(handle)\n",
    "with open(path+'dis_train.pickle', 'rb') as handle:\n",
    "    dis_train = pickle.load(handle)\n",
    "with open(path+'dis_test.pickle', 'rb') as handle:\n",
    "    dis_test = pickle.load(handle)\n",
    "with open(path+'Scalar.pickle', 'rb') as handle:\n",
    "    Scalar = pickle.load(handle)\n",
    "train_resampled = train_resampled[:13400]\n",
    "dis_train = dis_train[:13400]\n",
    "train_resampled = [train_resampled[idx].values[:-10] for idx in range(len(train_resampled))]\n",
    "test_resampled = [test_resampled[idx].values[:-10] for idx in range(len(test_resampled))]"
   ]
  },
  {
   "cell_type": "markdown",
   "metadata": {},
   "source": [
    "## Variational Recurrent Neural Network (VRNN)"
   ]
  },
  {
   "cell_type": "code",
   "execution_count": 3,
   "metadata": {},
   "outputs": [],
   "source": [
    "class VRNN(nn.Module):\n",
    "    \n",
    "    def __init__(self, x_dim, h_dim, z_dim, n_layers, bias = True ):\n",
    "        \n",
    "        super(VRNN, self).__init__()\n",
    "\n",
    "        self.x_dim = x_dim\n",
    "        self.h_dim = h_dim\n",
    "        self.z_dim = z_dim\n",
    "        self.n_layers = n_layers\n",
    "\n",
    "        #feature-extracting transformations\n",
    "        self.phi_x = nn.Sequential( nn.Linear(self.x_dim , self.h_dim), nn.Tanh(), \n",
    "                                   nn.Linear(self.h_dim, self.h_dim), nn.Tanh())\n",
    "        self.phi_z = nn.Sequential( nn.Linear(self.z_dim, self.h_dim), nn.Tanh())\n",
    "\n",
    "        #encoder\n",
    "        self.enc = nn.Sequential( nn.Linear(self.h_dim + self.h_dim * self.n_layers , \n",
    "                                            self.h_dim), nn.Tanh(), nn.Linear(self.h_dim, self.h_dim), nn.Tanh())\n",
    "        \n",
    "        self.enc_mean = nn.Sequential( nn.Linear(self.h_dim, self.z_dim), nn.Tanh())\n",
    "        self.enc_std = nn.Sequential( nn.Linear(self.h_dim, self.z_dim), nn.Sigmoid())\n",
    "\n",
    "        #prior\n",
    "        self.prior = nn.Sequential( nn.Linear(self.n_layers * self.h_dim, self.h_dim), nn.Tanh())\n",
    "        self.prior_mean = nn.Sequential( nn.Linear(self.h_dim, self.z_dim), nn.Tanh())\n",
    "        self.prior_std = nn.Sequential( nn.Linear(self.h_dim, self.z_dim), nn.Sigmoid())\n",
    "\n",
    "        #decoder\n",
    "        self.dec = nn.Sequential( nn.Linear(self.h_dim + self.h_dim * self.n_layers , self.h_dim), nn.Tanh(), \n",
    "                                 nn.Linear(self.h_dim, self.h_dim), nn.Tanh())\n",
    "        self.dec_std = nn.Sequential( nn.Linear(self.h_dim, self.x_dim), nn.Sigmoid())\n",
    "        #self.dec_mean = nn.Linear(h_dim, x_dim)\n",
    "        self.dec_mean = nn.Sequential( nn.Linear( self.h_dim, self.x_dim ), nn.Tanh())\n",
    "\n",
    "        #recurrence\n",
    "        self.rnn = nn.GRU ( self.h_dim + self.h_dim + self.n_layers * self.h_dim, self.h_dim, \n",
    "                           self.n_layers, bias , batch_first = True )\n",
    "        \n",
    "    def encode (self, phi_x_t , h):\n",
    "        phi_x_t = self._concatenate (phi_x_t , h)\n",
    "        enc_t = self.enc(phi_x_t)\n",
    "        enc_mean_t = self.enc_mean(enc_t)\n",
    "        enc_std_t = self.enc_std(enc_t)\n",
    "        return enc_mean_t , enc_std_t\n",
    "        \n",
    "    \n",
    "    def decode (self, phi_z_t , h):\n",
    "        phi_z_t = self._concatenate (phi_z_t , h)\n",
    "        dec_t = self.dec(phi_z_t)\n",
    "        dec_mean_t = self.dec_mean(dec_t)\n",
    "        dec_std_t = self.dec_std(dec_t)\n",
    "        return dec_mean_t , dec_std_t\n",
    "        \n",
    "    def forward(self, x):\n",
    "        all_enc_mean, all_enc_std = [], []\n",
    "        all_dec_mean, all_dec_std = [], []\n",
    "        kld_loss = 0\n",
    "        nll_loss = 0\n",
    "\n",
    "        h = Variable(torch.zeros(self.n_layers, x.size(0), self.h_dim))\n",
    "        \n",
    "        for t in range(x.size(1)):\n",
    "            \n",
    "            phi_x_t = self.phi_x(x[:,t,:].float())\n",
    "            #encoder\n",
    "            enc_mean_t , enc_std_t = self.encode(phi_x_t , h)\n",
    "            #prior\n",
    "            prior_t = self.prior(h.reshape (h.shape[1] , n_layers * h_dim))\n",
    "            prior_mean_t = self.prior_mean(prior_t)\n",
    "            prior_std_t = self.prior_std(prior_t)\n",
    "            #sampling and reparameterization\n",
    "            z_t = self._reparameterized_sample(enc_mean_t, enc_std_t)\n",
    "            phi_z_t = self.phi_z(z_t)\n",
    "            #decoder\n",
    "            dec_mean_t , dec_std_t = self.decode(phi_z_t , h)\n",
    "            \n",
    "            #recurrence\n",
    "            temp = self._concatenate ( torch.cat ( [ phi_x_t , phi_z_t ] , 1) , h )\n",
    "            _, h = self.rnn(temp.reshape(temp.shape[0] , 1 , temp.shape[1]))\n",
    "\n",
    "            #computing losses enc_std_t.mul(0.5).exp_()\n",
    "            #kld_loss += self._kld_gauss(enc_mean_t, enc_std_t, prior_mean_t, prior_std_t)\n",
    "            kld_loss += self._kld_gauss(enc_mean_t, enc_std_t.mul(0.5).exp_(), prior_mean_t, prior_std_t.mul(0.5).exp_())\n",
    "            nll_loss += self._nll_gauss(dec_mean_t, dec_std_t, x[:,t,:])\n",
    "                \n",
    "            all_enc_std.append(enc_std_t)\n",
    "            all_enc_mean.append(enc_mean_t)\n",
    "            all_dec_mean.append(dec_mean_t)\n",
    "            all_dec_std.append(dec_std_t)\n",
    "\n",
    "\n",
    "        return kld_loss, nll_loss,(all_enc_mean, all_enc_std),(all_dec_mean, all_dec_std)\n",
    "    \n",
    "    \n",
    "    def _reparameterized_sample(self, mean, logvar):\n",
    "        \"\"\"using std to sample\"\"\"\n",
    "        std = logvar.mul(0.5).exp_()\n",
    "        eps = torch.FloatTensor(std.size()).normal_()\n",
    "        eps = Variable(eps)\n",
    "        return eps.mul(std).add_(mean)\n",
    "\n",
    "\n",
    "    def _kld_gauss(self, mean_1, std_1, mean_2, std_2):\n",
    "        \"\"\"Using std to compute KLD\"\"\"\n",
    "\n",
    "        kld_element =  (2 * torch.log(std_2) - 2 * torch.log(std_1) +\n",
    "            (std_1.pow(2) + (mean_1 - mean_2).pow(2)) /\n",
    "            std_2.pow(2) - 1)\n",
    "        return 0.5 * torch.sum(kld_element)\n",
    "\n",
    "    def _nll_gauss(self, mean, logvar , x):\n",
    "        return torch.sum( 0.5 * np.log (2 * np.pi) + 0.5 * logvar + (x-mean)**2 / (2 *  torch.exp(logvar)) )\n",
    "    \n",
    "    def _concatenate (self , a , b) :\n",
    "        for i in range(len(b)):\n",
    "            a = torch.cat([a , b[i]] , 1)\n",
    "        return a"
   ]
  },
  {
   "cell_type": "markdown",
   "metadata": {},
   "source": [
    "## Configure the Hyper-Parameters and Model"
   ]
  },
  {
   "cell_type": "code",
   "execution_count": 4,
   "metadata": {},
   "outputs": [],
   "source": [
    "#hyperparameters\n",
    "x_dim = 7\n",
    "h_dim = 50\n",
    "z_dim = 2\n",
    "n_layers =  2\n",
    "n_epochs = 5\n",
    "clip = 10\n",
    "learning_rate = 1e-3\n",
    "batch_size = 100\n",
    "seed = 100\n",
    "print_every = 10\n",
    "save_every = 10\n",
    "#manual seed\n",
    "torch.manual_seed(seed)\n",
    "#init model + optimizer + datasets\n",
    "train_loader = torch.utils.data.DataLoader ( dataset = train_resampled ,  batch_size = 100 , shuffle= True)\n",
    "test_loader = torch.utils.data.DataLoader (  dataset = test_resampled , shuffle= True)\n",
    "model = VRNN(x_dim, h_dim, z_dim, n_layers)\n",
    "optimizer = torch.optim.Adam(model.parameters(), lr=learning_rate)"
   ]
  },
  {
   "cell_type": "markdown",
   "metadata": {},
   "source": [
    "## Train and Test the Model"
   ]
  },
  {
   "cell_type": "code",
   "execution_count": 5,
   "metadata": {},
   "outputs": [],
   "source": [
    "def train(epoch):\n",
    "    train_loss = 0\n",
    "    epoch_loss = np.zeros(int(len (train_resampled) / batch_size ))\n",
    "    epoch_div = np.zeros(int(len (train_resampled) / batch_size))\n",
    "    for batch_idx, (data) in enumerate(train_loader):\n",
    "        \n",
    "        data = Variable(data)\n",
    "        #forward + backward + optimize\n",
    "        optimizer.zero_grad()\n",
    "        kld_loss, nll_loss, _, _ = model(data)\n",
    "        epoch_loss [batch_idx] = nll_loss\n",
    "        epoch_div [batch_idx] = kld_loss\n",
    "        loss = kld_loss + nll_loss\n",
    "        loss.backward()\n",
    "        nn.utils.clip_grad_norm_(model.parameters(), clip)\n",
    "        optimizer.step()\n",
    "        #printing\n",
    "        if batch_idx % print_every == 0:\n",
    "            print('Train Epoch: {} [{}/{} ({:.0f}%)]\\t KLD Loss: {:.6f} \\t NLL Loss: {:.6f}'.format(\n",
    "                epoch, batch_idx * len(data), len(train_loader.dataset),\n",
    "                100. * batch_idx / len(train_loader),\n",
    "                kld_loss.data / batch_size,\n",
    "                nll_loss.data / batch_size))\n",
    "\n",
    "            \n",
    "\n",
    "        train_loss += loss.data\n",
    "    print('====> Epoch: {} Average loss: {:.4f}'.format(\n",
    "        epoch, train_loss / len(train_loader.dataset)))\n",
    "    return epoch_loss, epoch_div\n",
    "    \n",
    "def test(epoch):\n",
    "    \"\"\"uses test data to evaluate \n",
    "    likelihood of the model\"\"\"\n",
    "    mean_kld_loss, mean_nll_loss = 0, 0\n",
    "    epoch_loss = np.zeros(len(test_resampled))\n",
    "    epoch_div = np.zeros(len(test_resampled))\n",
    "    for i, (data) in enumerate(test_loader):                                           \n",
    "        \n",
    "        data = Variable(data.reshape(1,38,7))\n",
    "        kld_loss, nll_loss, _, _ = model(data)\n",
    "        epoch_div [i] = kld_loss\n",
    "        epoch_loss [i] = nll_loss\n",
    "        mean_kld_loss += kld_loss.data\n",
    "        mean_nll_loss += nll_loss.data\n",
    "\n",
    "    mean_kld_loss /= len(test_loader.dataset)\n",
    "    mean_nll_loss /= len(test_loader.dataset)\n",
    "\n",
    "    print('====> Test set loss: KLD Loss = {:.4f}, NLL Loss = {:.4f} '.format(\n",
    "        mean_kld_loss, mean_nll_loss))\n",
    "    return epoch_loss, epoch_div"
   ]
  },
  {
   "cell_type": "markdown",
   "metadata": {},
   "source": [
    "## Run the Training and Validation/Testing"
   ]
  },
  {
   "cell_type": "code",
   "execution_count": 6,
   "metadata": {},
   "outputs": [
    {
     "name": "stdout",
     "output_type": "stream",
     "text": [
      "Train Epoch: 1 [0/13400 (0%)]\t KLD Loss: 0.646537 \t NLL Loss: 382.693701\n",
      "Train Epoch: 1 [1000/13400 (7%)]\t KLD Loss: 0.250120 \t NLL Loss: 332.287818\n",
      "Train Epoch: 1 [2000/13400 (15%)]\t KLD Loss: 0.103260 \t NLL Loss: 293.388777\n",
      "Train Epoch: 1 [3000/13400 (22%)]\t KLD Loss: 0.085393 \t NLL Loss: 274.058062\n",
      "Train Epoch: 1 [4000/13400 (30%)]\t KLD Loss: 0.030005 \t NLL Loss: 262.374425\n",
      "Train Epoch: 1 [5000/13400 (37%)]\t KLD Loss: 0.032114 \t NLL Loss: 255.983185\n",
      "Train Epoch: 1 [6000/13400 (45%)]\t KLD Loss: 0.012162 \t NLL Loss: 252.542306\n",
      "Train Epoch: 1 [7000/13400 (52%)]\t KLD Loss: 0.004312 \t NLL Loss: 250.705409\n",
      "Train Epoch: 1 [8000/13400 (60%)]\t KLD Loss: 0.005215 \t NLL Loss: 249.669769\n",
      "Train Epoch: 1 [9000/13400 (67%)]\t KLD Loss: 0.000669 \t NLL Loss: 249.060738\n",
      "Train Epoch: 1 [10000/13400 (75%)]\t KLD Loss: 0.000550 \t NLL Loss: 248.581306\n",
      "Train Epoch: 1 [11000/13400 (82%)]\t KLD Loss: 0.001517 \t NLL Loss: 247.123044\n",
      "Train Epoch: 1 [12000/13400 (90%)]\t KLD Loss: 0.006681 \t NLL Loss: 245.486527\n",
      "Train Epoch: 1 [13000/13400 (97%)]\t KLD Loss: 0.040499 \t NLL Loss: 245.241218\n",
      "====> Epoch: 1 Average loss: 266.9455\n",
      "====> Test set loss: KLD Loss = 0.0458, NLL Loss = 245.0252 \n",
      "Train Epoch: 2 [0/13400 (0%)]\t KLD Loss: 0.093374 \t NLL Loss: 245.023129\n",
      "Train Epoch: 2 [1000/13400 (7%)]\t KLD Loss: 0.009856 \t NLL Loss: 244.927350\n",
      "Train Epoch: 2 [2000/13400 (15%)]\t KLD Loss: 0.008767 \t NLL Loss: 244.866550\n",
      "Train Epoch: 2 [3000/13400 (22%)]\t KLD Loss: 0.005378 \t NLL Loss: 244.789679\n",
      "Train Epoch: 2 [4000/13400 (30%)]\t KLD Loss: 0.006697 \t NLL Loss: 244.734335\n",
      "Train Epoch: 2 [5000/13400 (37%)]\t KLD Loss: 0.001757 \t NLL Loss: 244.674987\n",
      "Train Epoch: 2 [6000/13400 (45%)]\t KLD Loss: 0.000549 \t NLL Loss: 244.654789\n",
      "Train Epoch: 2 [7000/13400 (52%)]\t KLD Loss: 0.000600 \t NLL Loss: 244.629574\n",
      "Train Epoch: 2 [8000/13400 (60%)]\t KLD Loss: 0.000571 \t NLL Loss: 244.806140\n",
      "Train Epoch: 2 [9000/13400 (67%)]\t KLD Loss: 0.000662 \t NLL Loss: 244.609783\n",
      "Train Epoch: 2 [10000/13400 (75%)]\t KLD Loss: 0.000615 \t NLL Loss: 244.743379\n",
      "Train Epoch: 2 [11000/13400 (82%)]\t KLD Loss: 0.000563 \t NLL Loss: 244.593033\n",
      "Train Epoch: 2 [12000/13400 (90%)]\t KLD Loss: 0.000407 \t NLL Loss: 244.648282\n",
      "Train Epoch: 2 [13000/13400 (97%)]\t KLD Loss: 0.000328 \t NLL Loss: 244.571788\n",
      "====> Epoch: 2 Average loss: 244.7264\n",
      "====> Test set loss: KLD Loss = 0.0129, NLL Loss = 244.5852 \n",
      "Train Epoch: 3 [0/13400 (0%)]\t KLD Loss: 0.000384 \t NLL Loss: 244.584031\n",
      "Train Epoch: 3 [1000/13400 (7%)]\t KLD Loss: 0.000337 \t NLL Loss: 244.628162\n",
      "Train Epoch: 3 [2000/13400 (15%)]\t KLD Loss: 0.000301 \t NLL Loss: 244.562211\n",
      "Train Epoch: 3 [3000/13400 (22%)]\t KLD Loss: 0.000310 \t NLL Loss: 244.660986\n",
      "Train Epoch: 3 [4000/13400 (30%)]\t KLD Loss: 0.000325 \t NLL Loss: 244.563747\n",
      "Train Epoch: 3 [5000/13400 (37%)]\t KLD Loss: 0.000328 \t NLL Loss: 244.603687\n",
      "Train Epoch: 3 [6000/13400 (45%)]\t KLD Loss: 0.000294 \t NLL Loss: 244.546656\n",
      "Train Epoch: 3 [7000/13400 (52%)]\t KLD Loss: 0.000286 \t NLL Loss: 244.619694\n",
      "Train Epoch: 3 [8000/13400 (60%)]\t KLD Loss: 0.000262 \t NLL Loss: 244.549092\n",
      "Train Epoch: 3 [9000/13400 (67%)]\t KLD Loss: 0.000233 \t NLL Loss: 244.579326\n",
      "Train Epoch: 3 [10000/13400 (75%)]\t KLD Loss: 0.000233 \t NLL Loss: 244.531668\n",
      "Train Epoch: 3 [11000/13400 (82%)]\t KLD Loss: 0.000239 \t NLL Loss: 244.603612\n",
      "Train Epoch: 3 [12000/13400 (90%)]\t KLD Loss: 0.000236 \t NLL Loss: 244.539073\n",
      "Train Epoch: 3 [13000/13400 (97%)]\t KLD Loss: 0.000293 \t NLL Loss: 244.558548\n",
      "====> Epoch: 3 Average loss: 244.5812\n",
      "====> Test set loss: KLD Loss = 0.0120, NLL Loss = 244.5990 \n",
      "Train Epoch: 4 [0/13400 (0%)]\t KLD Loss: 0.000274 \t NLL Loss: 244.598643\n",
      "Train Epoch: 4 [1000/13400 (7%)]\t KLD Loss: 0.000436 \t NLL Loss: 244.531165\n",
      "Train Epoch: 4 [2000/13400 (15%)]\t KLD Loss: 0.000379 \t NLL Loss: 244.547315\n",
      "Train Epoch: 4 [3000/13400 (22%)]\t KLD Loss: 0.009502 \t NLL Loss: 244.516721\n",
      "Train Epoch: 4 [4000/13400 (30%)]\t KLD Loss: 0.004473 \t NLL Loss: 244.562929\n",
      "Train Epoch: 4 [5000/13400 (37%)]\t KLD Loss: 0.012793 \t NLL Loss: 244.511884\n",
      "Train Epoch: 4 [6000/13400 (45%)]\t KLD Loss: 0.000658 \t NLL Loss: 244.552260\n",
      "Train Epoch: 4 [7000/13400 (52%)]\t KLD Loss: 0.002051 \t NLL Loss: 244.506864\n",
      "Train Epoch: 4 [8000/13400 (60%)]\t KLD Loss: 0.000357 \t NLL Loss: 244.553617\n",
      "Train Epoch: 4 [9000/13400 (67%)]\t KLD Loss: 0.000388 \t NLL Loss: 244.506191\n",
      "Train Epoch: 4 [10000/13400 (75%)]\t KLD Loss: 0.000185 \t NLL Loss: 244.549015\n",
      "Train Epoch: 4 [11000/13400 (82%)]\t KLD Loss: 0.000229 \t NLL Loss: 244.498432\n",
      "Train Epoch: 4 [12000/13400 (90%)]\t KLD Loss: 0.000166 \t NLL Loss: 244.551265\n",
      "Train Epoch: 4 [13000/13400 (97%)]\t KLD Loss: 0.000173 \t NLL Loss: 244.502699\n",
      "====> Epoch: 4 Average loss: 244.5365\n",
      "====> Test set loss: KLD Loss = 0.0087, NLL Loss = 244.4949 \n",
      "Train Epoch: 5 [0/13400 (0%)]\t KLD Loss: 0.000156 \t NLL Loss: 244.493324\n",
      "Train Epoch: 5 [1000/13400 (7%)]\t KLD Loss: 0.000178 \t NLL Loss: 244.550679\n",
      "Train Epoch: 5 [2000/13400 (15%)]\t KLD Loss: 0.000242 \t NLL Loss: 244.500358\n",
      "Train Epoch: 5 [3000/13400 (22%)]\t KLD Loss: 0.000141 \t NLL Loss: 244.520884\n",
      "Train Epoch: 5 [4000/13400 (30%)]\t KLD Loss: 0.002188 \t NLL Loss: 244.486283\n",
      "Train Epoch: 5 [5000/13400 (37%)]\t KLD Loss: 0.002534 \t NLL Loss: 244.534886\n",
      "Train Epoch: 5 [6000/13400 (45%)]\t KLD Loss: 0.005541 \t NLL Loss: 244.488246\n",
      "Train Epoch: 5 [7000/13400 (52%)]\t KLD Loss: 0.000402 \t NLL Loss: 244.521309\n",
      "Train Epoch: 5 [8000/13400 (60%)]\t KLD Loss: 0.001052 \t NLL Loss: 244.484120\n",
      "Train Epoch: 5 [9000/13400 (67%)]\t KLD Loss: 0.000261 \t NLL Loss: 244.526939\n",
      "Train Epoch: 5 [10000/13400 (75%)]\t KLD Loss: 0.000262 \t NLL Loss: 244.486704\n",
      "Train Epoch: 5 [11000/13400 (82%)]\t KLD Loss: 0.000127 \t NLL Loss: 244.508113\n",
      "Train Epoch: 5 [12000/13400 (90%)]\t KLD Loss: 0.000184 \t NLL Loss: 244.478878\n",
      "Train Epoch: 5 [13000/13400 (97%)]\t KLD Loss: 0.000160 \t NLL Loss: 244.525758\n",
      "====> Epoch: 5 Average loss: 244.5097\n",
      "====> Test set loss: KLD Loss = 0.0075, NLL Loss = 244.5054 \n"
     ]
    }
   ],
   "source": [
    "train_error = np.zeros([n_epochs , int(len (train_resampled) / batch_size ) ])\n",
    "train_div = np.zeros([n_epochs , int(len (train_resampled) / batch_size ) ])\n",
    "test_error , test_div  = np.zeros([n_epochs , len(test_resampled)]) , np.zeros([n_epochs , len(test_resampled)]) \n",
    "for epoch in range(1, n_epochs + 1):\n",
    "    tr = train(epoch)\n",
    "    train_error [epoch-1 , :] = tr [0]\n",
    "    train_div [epoch-1 , :] = tr [1] \n",
    "    te = test(epoch)\n",
    "    test_error [epoch-1 , :] = te [0]\n",
    "    test_div [epoch-1 , :] = te [1]"
   ]
  },
  {
   "cell_type": "markdown",
   "metadata": {},
   "source": [
    "## Save the Training Data, Model, Error"
   ]
  },
  {
   "cell_type": "code",
   "execution_count": 7,
   "metadata": {},
   "outputs": [],
   "source": [
    "with open(path +'_train_error.pickle', 'wb') as handle:\n",
    "    pickle.dump(train_error, handle, protocol=pickle.HIGHEST_PROTOCOL)\n",
    "with open(path +'_test_error.pickle', 'wb') as handle:\n",
    "    pickle.dump(test_error, handle, protocol=pickle.HIGHEST_PROTOCOL)\n",
    "with open(path +'_train_div.pickle', 'wb') as handle:\n",
    "    pickle.dump(train_div, handle, protocol=pickle.HIGHEST_PROTOCOL)\n",
    "with open(path +'_test_div.pickle', 'wb') as handle:\n",
    "    pickle.dump(test_div, handle, protocol=pickle.HIGHEST_PROTOCOL)\n",
    "with open(path +'_Model.pickle', 'wb') as handle:\n",
    "    pickle.dump(model, handle, protocol=pickle.HIGHEST_PROTOCOL)\n",
    "with open(path +'_train_loader.pickle', 'wb') as handle:\n",
    "    pickle.dump(train_loader, handle, protocol=pickle.HIGHEST_PROTOCOL)\n",
    "with open(path +'_test_loader.pickle', 'wb') as handle:\n",
    "    pickle.dump(test_loader, handle, protocol=pickle.HIGHEST_PROTOCOL)"
   ]
  },
  {
   "cell_type": "markdown",
   "metadata": {},
   "source": [
    "## Reconstruct & Forecast"
   ]
  },
  {
   "cell_type": "code",
   "execution_count": 8,
   "metadata": {},
   "outputs": [],
   "source": [
    "path = 'Path to the Data'\n",
    "with open(path +'test_resampled.pickle', 'rb') as handle:\n",
    "    test_resampled = pickle.load(handle)\n",
    "test_resampled = [test_resampled[idx].values for idx in range(len(test_resampled))]\n",
    "result =  [ model (torch.tensor (test_resampled[idx]).reshape(1,48,7)) for idx in range(len(test_resampled)) ]\n",
    "torch.manual_seed(seed)\n",
    "dist = [ torch.distributions.normal.Normal (torch.cat(result[idx][3][0]) , torch.cat(result[idx][3][1]).mul(0.5).exp_()) for idx in range(len(result))]\n",
    "recon_x = [ dist[idx].sample((10000,)).mean(0) for idx in range(len(dist)) ]"
   ]
  },
  {
   "cell_type": "markdown",
   "metadata": {},
   "source": [
    "## 6 Step Ahead"
   ]
  },
  {
   "cell_type": "code",
   "execution_count": 9,
   "metadata": {},
   "outputs": [
    {
     "name": "stdout",
     "output_type": "stream",
     "text": [
      "Average RMSE for Test Data is: 0.01071397805992845\n",
      "Variance of RMSE for Test Data is: 0.0014250119542159332\n"
     ]
    }
   ],
   "source": [
    "error = [ _rmse(test_resampled[idx][[38,39,40,41,42,43],:] , np.array(recon_x[idx][[38,39,40,41,42,43],:])) for idx in range(len(test_resampled)) ]\n",
    "error = pd.DataFrame (error)\n",
    "error = error.mean(axis = 1)\n",
    "print ('Average RMSE for Test Data is: '+str(error.mean()))\n",
    "print ('Variance of RMSE for Test Data is: '+str(error.std()))"
   ]
  },
  {
   "cell_type": "markdown",
   "metadata": {},
   "source": [
    "## 7 Step Ahead"
   ]
  },
  {
   "cell_type": "code",
   "execution_count": 10,
   "metadata": {},
   "outputs": [
    {
     "name": "stdout",
     "output_type": "stream",
     "text": [
      "Average RMSE for Test Data is: 0.010718976828625578\n",
      "Variance of RMSE for Test Data is: 0.0013474723110471739\n"
     ]
    }
   ],
   "source": [
    "error = [ _rmse(test_resampled[idx][[38,39,40,41,42,43,44],:] , np.array(recon_x[idx][[38,39,40,41,42,43,44],:])) for idx in range(len(test_resampled)) ]\n",
    "error = pd.DataFrame (error)\n",
    "error = error.mean(axis = 1)\n",
    "print ('Average RMSE for Test Data is: '+str(error.mean()))\n",
    "print ('Variance of RMSE for Test Data is: '+str(error.std()))"
   ]
  },
  {
   "cell_type": "markdown",
   "metadata": {},
   "source": [
    "## 8 Step Ahead"
   ]
  },
  {
   "cell_type": "code",
   "execution_count": 11,
   "metadata": {},
   "outputs": [
    {
     "name": "stdout",
     "output_type": "stream",
     "text": [
      "Average RMSE for Test Data is: 0.010732835430061056\n",
      "Variance of RMSE for Test Data is: 0.0012940087308358182\n"
     ]
    }
   ],
   "source": [
    "error = [ _rmse(test_resampled[idx][[38,39,40,41,42,43,44,45],:] , np.array(recon_x[idx][[38,39,40,41,42,43,44,45],:])) for idx in range(len(test_resampled)) ]\n",
    "error = pd.DataFrame (error)\n",
    "error = error.mean(axis = 1)\n",
    "print ('Average RMSE for Test Data is: '+str(error.mean()))\n",
    "print ('Variance of RMSE for Test Data is: '+str(error.std()))"
   ]
  },
  {
   "cell_type": "markdown",
   "metadata": {},
   "source": [
    "## 9 Step Ahead"
   ]
  },
  {
   "cell_type": "code",
   "execution_count": 12,
   "metadata": {},
   "outputs": [
    {
     "name": "stdout",
     "output_type": "stream",
     "text": [
      "Average RMSE for Test Data is: 0.010741320157886708\n",
      "Variance of RMSE for Test Data is: 0.001245148435850656\n"
     ]
    }
   ],
   "source": [
    "error = [ _rmse(test_resampled[idx][[38,39,40,41,42,43,44,45,46],:] , np.array(recon_x[idx][[38,39,40,41,42,43,44,45,46],:])) for idx in range(len(test_resampled)) ]\n",
    "error = pd.DataFrame (error)\n",
    "error = error.mean(axis = 1)\n",
    "print ('Average RMSE for Test Data is: '+str(error.mean()))\n",
    "print ('Variance of RMSE for Test Data is: '+str(error.std()))"
   ]
  },
  {
   "cell_type": "markdown",
   "metadata": {},
   "source": [
    "## 10 Step Ahead"
   ]
  },
  {
   "cell_type": "code",
   "execution_count": 13,
   "metadata": {},
   "outputs": [
    {
     "name": "stdout",
     "output_type": "stream",
     "text": [
      "Average RMSE for Test Data is: 0.010735355597292677\n",
      "Variance of RMSE for Test Data is: 0.0011967700114956248\n"
     ]
    }
   ],
   "source": [
    "error = [ _rmse(test_resampled[idx][[38,39,40,41,42,43,44,45,46,47],:] , np.array(recon_x[idx][[38,39,40,41,42,43,44,45,46,47],:])) for idx in range(len(test_resampled)) ]\n",
    "error = pd.DataFrame (error)\n",
    "error = error.mean(axis = 1)\n",
    "print ('Average RMSE for Test Data is: '+str(error.mean()))\n",
    "print ('Variance of RMSE for Test Data is: '+str(error.std()))"
   ]
  }
 ],
 "metadata": {
  "kernelspec": {
   "display_name": "Python 3",
   "language": "python",
   "name": "python3"
  },
  "language_info": {
   "codemirror_mode": {
    "name": "ipython",
    "version": 3
   },
   "file_extension": ".py",
   "mimetype": "text/x-python",
   "name": "python",
   "nbconvert_exporter": "python",
   "pygments_lexer": "ipython3",
   "version": "3.7.0"
  }
 },
 "nbformat": 4,
 "nbformat_minor": 2
}
