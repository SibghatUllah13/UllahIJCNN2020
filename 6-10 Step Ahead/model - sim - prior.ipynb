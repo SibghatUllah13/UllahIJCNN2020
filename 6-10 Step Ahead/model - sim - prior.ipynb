{
 "cells": [
  {
   "cell_type": "code",
   "execution_count": 1,
   "metadata": {},
   "outputs": [],
   "source": [
    "import numpy as np\n",
    "import math\n",
    "import os\n",
    "import pickle\n",
    "import pandas as pd\n",
    "import torch\n",
    "import torch.nn as nn\n",
    "import torch.utils\n",
    "import torch.utils.data\n",
    "from torchvision import datasets, transforms\n",
    "from torch.autograd import Variable\n",
    "import matplotlib.pyplot as plt\n",
    "\n",
    "def _rmse (x, x_hat):\n",
    "    x = x[:,1:]\n",
    "    x_hat = x_hat[:,1:]\n",
    "    return np.sqrt(np.mean(((x-x_hat)**2)))"
   ]
  },
  {
   "cell_type": "markdown",
   "metadata": {},
   "source": [
    "## Load Data Sets in Memory"
   ]
  },
  {
   "cell_type": "code",
   "execution_count": 2,
   "metadata": {},
   "outputs": [],
   "source": [
    "path = 'Path to the Data'\n",
    "with open(path+'train_resampled.pickle', 'rb') as handle:\n",
    "    train_resampled = pickle.load(handle)\n",
    "with open(path+'test_resampled.pickle', 'rb') as handle:\n",
    "    test_resampled = pickle.load(handle)\n",
    "with open(path+'dis_train.pickle', 'rb') as handle:\n",
    "    dis_train = pickle.load(handle)\n",
    "with open(path+'dis_test.pickle', 'rb') as handle:\n",
    "    dis_test = pickle.load(handle)\n",
    "with open(path+'Scalar.pickle', 'rb') as handle:\n",
    "    Scalar = pickle.load(handle)\n",
    "train_resampled = train_resampled[:13400]\n",
    "dis_train = dis_train[:13400]\n",
    "train_resampled = [train_resampled[idx][:-10].values[:,:31] for idx in range(len(train_resampled))]\n",
    "test_resampled = [test_resampled[idx].values[:-10][:,:31] for idx in range(len(test_resampled))]"
   ]
  },
  {
   "cell_type": "markdown",
   "metadata": {},
   "source": [
    "## Variational Recurrent Neural Network (VRNN-I-S)"
   ]
  },
  {
   "cell_type": "code",
   "execution_count": 3,
   "metadata": {},
   "outputs": [],
   "source": [
    "class VRNN(nn.Module):\n",
    "    \n",
    "    def __init__(self, x_dim, h_dim, z_dim, n_layers, bias = True ):\n",
    "        \n",
    "        super(VRNN, self).__init__()\n",
    "\n",
    "        self.x_dim = x_dim\n",
    "        self.h_dim = h_dim\n",
    "        self.z_dim = z_dim\n",
    "        self.n_layers = n_layers\n",
    "\n",
    "        #feature-extracting transformations\n",
    "        self.phi_x = nn.Sequential( nn.Linear(self.x_dim , self.h_dim), nn.Tanh(), \n",
    "                                   nn.Linear(self.h_dim, self.h_dim), nn.Tanh())\n",
    "        self.phi_z = nn.Sequential( nn.Linear(self.z_dim, self.h_dim), nn.Tanh())\n",
    "\n",
    "        #encoder\n",
    "        self.enc = nn.Sequential( nn.Linear(self.h_dim + self.h_dim * self.n_layers , \n",
    "                                            self.h_dim), nn.Tanh(), nn.Linear(self.h_dim, self.h_dim), nn.Tanh())\n",
    "        \n",
    "        self.enc_mean = nn.Sequential( nn.Linear(self.h_dim, self.z_dim), nn.Tanh())\n",
    "        self.enc_std = nn.Sequential( nn.Linear(self.h_dim, self.z_dim), nn.Sigmoid())\n",
    "\n",
    "        \n",
    "        #decoder\n",
    "        self.dec = nn.Sequential( nn.Linear(self.h_dim + self.h_dim * self.n_layers , self.h_dim), nn.Tanh(), \n",
    "                                 nn.Linear(self.h_dim, self.h_dim), nn.Tanh())\n",
    "        self.dec_std = nn.Sequential( nn.Linear(self.h_dim, self.x_dim), nn.Sigmoid())\n",
    "        #self.dec_mean = nn.Linear(h_dim, x_dim)\n",
    "        self.dec_mean = nn.Sequential( nn.Linear( self.h_dim, self.x_dim ), nn.Tanh())\n",
    "\n",
    "        #recurrence\n",
    "        self.rnn = nn.GRU ( self.h_dim + self.h_dim + self.n_layers * self.h_dim, self.h_dim, \n",
    "                           self.n_layers, bias , batch_first = True )\n",
    "        \n",
    "    def encode (self, phi_x_t , h):\n",
    "        phi_x_t = self._concatenate (phi_x_t , h)\n",
    "        enc_t = self.enc(phi_x_t)\n",
    "        enc_mean_t = self.enc_mean(enc_t)\n",
    "        enc_std_t = self.enc_std(enc_t)\n",
    "        return enc_mean_t , enc_std_t\n",
    "        \n",
    "    \n",
    "    def decode (self, phi_z_t , h):\n",
    "        phi_z_t = self._concatenate (phi_z_t , h)\n",
    "        dec_t = self.dec(phi_z_t)\n",
    "        dec_mean_t = self.dec_mean(dec_t)\n",
    "        dec_std_t = self.dec_std(dec_t)\n",
    "        return dec_mean_t , dec_std_t\n",
    "        \n",
    "    def forward(self, x):\n",
    "        all_enc_mean, all_enc_std = [], []\n",
    "        all_dec_mean, all_dec_std = [], []\n",
    "        kld_loss = 0\n",
    "        nll_loss = 0\n",
    "\n",
    "        h = Variable(torch.zeros(self.n_layers, x.size(0), self.h_dim))\n",
    "        \n",
    "        for t in range(x.size(1)):\n",
    "            \n",
    "            phi_x_t = self.phi_x(x[:,t,:].float())\n",
    "            #encoder\n",
    "            enc_mean_t , enc_std_t = self.encode(phi_x_t , h)\n",
    "            #sampling and reparameterization\n",
    "            z_t = self._reparameterized_sample(enc_mean_t, enc_std_t)\n",
    "            phi_z_t = self.phi_z(z_t)\n",
    "            #decoder\n",
    "            dec_mean_t , dec_std_t = self.decode(phi_z_t , h)\n",
    "            \n",
    "            #recurrence\n",
    "            temp = self._concatenate ( torch.cat ( [ phi_x_t , phi_z_t ] , 1) , h )\n",
    "            _, h = self.rnn(temp.reshape(temp.shape[0] , 1 , temp.shape[1]))\n",
    "\n",
    "            #computing losses enc_std_t.mul(0.5).exp_()\n",
    "            #kld_loss += self._kld_gauss(enc_mean_t, enc_std_t, prior_mean_t, prior_std_t)\n",
    "            kld_loss += self._kld_gauss(enc_mean_t, enc_std_t)\n",
    "            nll_loss += self._nll_gauss(dec_mean_t, dec_std_t, x[:,t,:])\n",
    "                \n",
    "            all_enc_std.append(enc_std_t)\n",
    "            all_enc_mean.append(enc_mean_t)\n",
    "            all_dec_mean.append(dec_mean_t)\n",
    "            all_dec_std.append(dec_std_t)\n",
    "\n",
    "\n",
    "        return kld_loss, nll_loss,(all_enc_mean, all_enc_std),(all_dec_mean, all_dec_std)\n",
    "    \n",
    "    \n",
    "\n",
    "    def _reparameterized_sample(self, mean, logvar):\n",
    "        \"\"\"using std to sample\"\"\"\n",
    "        std = logvar.mul(0.5).exp_()\n",
    "        eps = torch.FloatTensor(std.size()).normal_()\n",
    "        eps = Variable(eps)\n",
    "        return eps.mul(std).add_(mean)\n",
    "\n",
    "\n",
    "    def _kld_gauss(self, mu, logvar):\n",
    "        \"\"\"Using std to compute KLD\"\"\"\n",
    "        return -0.5 * torch.sum(1 + logvar - mu.pow(2) - logvar.exp())\n",
    "        \n",
    "\n",
    "    def _nll_gauss(self, mean, logvar , x):\n",
    "        return torch.sum( 0.5 * np.log (2 * np.pi) + 0.5 * logvar + (x-mean)**2 / (2 *  torch.exp(logvar)) )\n",
    "    \n",
    "    def _concatenate (self , a , b) :\n",
    "        for i in range(len(b)):\n",
    "            a = torch.cat([a , b[i]] , 1)\n",
    "        return a"
   ]
  },
  {
   "cell_type": "markdown",
   "metadata": {},
   "source": [
    "## Configure the Hyper-Parameters and Model"
   ]
  },
  {
   "cell_type": "code",
   "execution_count": 4,
   "metadata": {},
   "outputs": [],
   "source": [
    "#hyperparameters\n",
    "x_dim = 25\n",
    "h_dim = 50\n",
    "z_dim = 2\n",
    "n_layers =  2\n",
    "n_epochs = 5\n",
    "clip = 10\n",
    "learning_rate = 1e-3\n",
    "batch_size = 100\n",
    "seed = 100\n",
    "print_every = 10\n",
    "save_every = 10\n",
    "#manual seed\n",
    "torch.manual_seed(seed)\n",
    "#init model + optimizer + datasets\n",
    "train_loader = torch.utils.data.DataLoader ( dataset = train_resampled ,  batch_size = 100 , shuffle= True)\n",
    "test_loader = torch.utils.data.DataLoader (  dataset = test_resampled , shuffle= True)\n",
    "model = VRNN(x_dim, h_dim, z_dim, n_layers)\n",
    "optimizer = torch.optim.Adam(model.parameters(), lr=learning_rate)"
   ]
  },
  {
   "cell_type": "markdown",
   "metadata": {},
   "source": [
    "## Train and Test the Model"
   ]
  },
  {
   "cell_type": "code",
   "execution_count": 5,
   "metadata": {},
   "outputs": [],
   "source": [
    "def train(epoch):\n",
    "    train_loss = 0\n",
    "    epoch_loss = np.zeros(int(len (train_resampled) / batch_size ))\n",
    "    epoch_div = np.zeros(int(len (train_resampled) / batch_size))\n",
    "    for batch_idx, (data) in enumerate(train_loader):\n",
    "        \n",
    "        data = Variable(data)\n",
    "        #forward + backward + optimize\n",
    "        optimizer.zero_grad()\n",
    "        kld_loss, nll_loss, _, _ = model(data)\n",
    "        epoch_loss [batch_idx] = nll_loss\n",
    "        epoch_div [batch_idx] = kld_loss\n",
    "        loss = kld_loss + nll_loss\n",
    "        loss.backward()\n",
    "        nn.utils.clip_grad_norm_(model.parameters(), clip)\n",
    "        optimizer.step()\n",
    "        #printing\n",
    "        if batch_idx % print_every == 0:\n",
    "            print('Train Epoch: {} [{}/{} ({:.0f}%)]\\t KLD Loss: {:.6f} \\t NLL Loss: {:.6f}'.format(\n",
    "                epoch, batch_idx * len(data), len(train_loader.dataset),\n",
    "                100. * batch_idx / len(train_loader),\n",
    "                kld_loss.data / batch_size,\n",
    "                nll_loss.data / batch_size))\n",
    "\n",
    "            \n",
    "\n",
    "        train_loss += loss.data\n",
    "    print('====> Epoch: {} Average loss: {:.4f}'.format(\n",
    "        epoch, train_loss / len(train_loader.dataset)))\n",
    "    return epoch_loss, epoch_div\n",
    "    \n",
    "def test(epoch):\n",
    "    \"\"\"uses test data to evaluate \n",
    "    likelihood of the model\"\"\"\n",
    "    mean_kld_loss, mean_nll_loss = 0, 0\n",
    "    epoch_loss = np.zeros(len(test_resampled))\n",
    "    epoch_div = np.zeros(len(test_resampled))\n",
    "    for i, (data) in enumerate(test_loader):                                           \n",
    "        \n",
    "        data = Variable(data.reshape(1,38,25))\n",
    "        kld_loss, nll_loss, _, _ = model(data)\n",
    "        epoch_div [i] = kld_loss\n",
    "        epoch_loss [i] = nll_loss\n",
    "        mean_kld_loss += kld_loss.data\n",
    "        mean_nll_loss += nll_loss.data\n",
    "\n",
    "    mean_kld_loss /= len(test_loader.dataset)\n",
    "    mean_nll_loss /= len(test_loader.dataset)\n",
    "\n",
    "    print('====> Test set loss: KLD Loss = {:.4f}, NLL Loss = {:.4f} '.format(\n",
    "        mean_kld_loss, mean_nll_loss))\n",
    "    return epoch_loss, epoch_div"
   ]
  },
  {
   "cell_type": "markdown",
   "metadata": {},
   "source": [
    "## Run the Training and Validation/Testing"
   ]
  },
  {
   "cell_type": "code",
   "execution_count": 6,
   "metadata": {},
   "outputs": [
    {
     "name": "stdout",
     "output_type": "stream",
     "text": [
      "Train Epoch: 1 [0/13400 (0%)]\t KLD Loss: 5.874836 \t NLL Loss: 1377.178128\n",
      "Train Epoch: 1 [1000/13400 (7%)]\t KLD Loss: 2.249789 \t NLL Loss: 1233.871828\n",
      "Train Epoch: 1 [2000/13400 (15%)]\t KLD Loss: 0.408039 \t NLL Loss: 1077.724959\n",
      "Train Epoch: 1 [3000/13400 (22%)]\t KLD Loss: 0.143064 \t NLL Loss: 993.329322\n",
      "Train Epoch: 1 [4000/13400 (30%)]\t KLD Loss: 0.115074 \t NLL Loss: 942.034608\n",
      "Train Epoch: 1 [5000/13400 (37%)]\t KLD Loss: 0.071740 \t NLL Loss: 912.115949\n",
      "Train Epoch: 1 [6000/13400 (45%)]\t KLD Loss: 0.035546 \t NLL Loss: 895.755968\n",
      "Train Epoch: 1 [7000/13400 (52%)]\t KLD Loss: 0.017892 \t NLL Loss: 887.111840\n",
      "Train Epoch: 1 [8000/13400 (60%)]\t KLD Loss: 0.008757 \t NLL Loss: 882.546243\n",
      "Train Epoch: 1 [9000/13400 (67%)]\t KLD Loss: 0.007741 \t NLL Loss: 880.134875\n",
      "Train Epoch: 1 [10000/13400 (75%)]\t KLD Loss: 0.002474 \t NLL Loss: 878.847102\n",
      "Train Epoch: 1 [11000/13400 (82%)]\t KLD Loss: 0.002826 \t NLL Loss: 878.139799\n",
      "Train Epoch: 1 [12000/13400 (90%)]\t KLD Loss: 0.001684 \t NLL Loss: 877.716420\n",
      "Train Epoch: 1 [13000/13400 (97%)]\t KLD Loss: 0.001756 \t NLL Loss: 877.417756\n",
      "====> Epoch: 1 Average loss: 958.3033\n",
      "====> Test set loss: KLD Loss = 0.0010, NLL Loss = 877.3438 \n",
      "Train Epoch: 2 [0/13400 (0%)]\t KLD Loss: 0.001020 \t NLL Loss: 877.337728\n",
      "Train Epoch: 2 [1000/13400 (7%)]\t KLD Loss: 0.000858 \t NLL Loss: 877.197458\n",
      "Train Epoch: 2 [2000/13400 (15%)]\t KLD Loss: 0.000580 \t NLL Loss: 877.078738\n",
      "Train Epoch: 2 [3000/13400 (22%)]\t KLD Loss: 0.005041 \t NLL Loss: 876.604466\n",
      "Train Epoch: 2 [4000/13400 (30%)]\t KLD Loss: 0.004467 \t NLL Loss: 875.716862\n",
      "Train Epoch: 2 [5000/13400 (37%)]\t KLD Loss: 0.002981 \t NLL Loss: 874.170413\n",
      "Train Epoch: 2 [6000/13400 (45%)]\t KLD Loss: 0.002931 \t NLL Loss: 877.572574\n",
      "Train Epoch: 2 [7000/13400 (52%)]\t KLD Loss: 0.007921 \t NLL Loss: 876.267419\n",
      "Train Epoch: 2 [8000/13400 (60%)]\t KLD Loss: 0.000910 \t NLL Loss: 873.839679\n",
      "Train Epoch: 2 [9000/13400 (67%)]\t KLD Loss: 0.000555 \t NLL Loss: 873.650854\n",
      "Train Epoch: 2 [10000/13400 (75%)]\t KLD Loss: 0.001294 \t NLL Loss: 873.542414\n",
      "Train Epoch: 2 [11000/13400 (82%)]\t KLD Loss: 0.020360 \t NLL Loss: 873.574969\n",
      "Train Epoch: 2 [12000/13400 (90%)]\t KLD Loss: 0.015575 \t NLL Loss: 873.586767\n",
      "Train Epoch: 2 [13000/13400 (97%)]\t KLD Loss: 0.045943 \t NLL Loss: 873.460423\n",
      "====> Epoch: 2 Average loss: 875.1969\n",
      "====> Test set loss: KLD Loss = 0.0051, NLL Loss = 873.4349 \n",
      "Train Epoch: 3 [0/13400 (0%)]\t KLD Loss: 0.005110 \t NLL Loss: 873.452059\n",
      "Train Epoch: 3 [1000/13400 (7%)]\t KLD Loss: 0.007266 \t NLL Loss: 873.390972\n",
      "Train Epoch: 3 [2000/13400 (15%)]\t KLD Loss: 0.001062 \t NLL Loss: 873.358220\n",
      "Train Epoch: 3 [3000/13400 (22%)]\t KLD Loss: 0.004867 \t NLL Loss: 873.355290\n",
      "Train Epoch: 3 [4000/13400 (30%)]\t KLD Loss: 0.000360 \t NLL Loss: 873.343070\n",
      "Train Epoch: 3 [5000/13400 (37%)]\t KLD Loss: 0.001277 \t NLL Loss: 873.302785\n",
      "Train Epoch: 3 [6000/13400 (45%)]\t KLD Loss: 0.000276 \t NLL Loss: 873.312270\n",
      "Train Epoch: 3 [7000/13400 (52%)]\t KLD Loss: 0.000590 \t NLL Loss: 873.287868\n",
      "Train Epoch: 3 [8000/13400 (60%)]\t KLD Loss: 0.000318 \t NLL Loss: 873.298542\n",
      "Train Epoch: 3 [9000/13400 (67%)]\t KLD Loss: 0.000407 \t NLL Loss: 873.239745\n",
      "Train Epoch: 3 [10000/13400 (75%)]\t KLD Loss: 0.000207 \t NLL Loss: 873.289821\n",
      "Train Epoch: 3 [11000/13400 (82%)]\t KLD Loss: 0.000220 \t NLL Loss: 873.241594\n",
      "Train Epoch: 3 [12000/13400 (90%)]\t KLD Loss: 0.000189 \t NLL Loss: 873.232887\n",
      "Train Epoch: 3 [13000/13400 (97%)]\t KLD Loss: 0.000201 \t NLL Loss: 873.199518\n",
      "====> Epoch: 3 Average loss: 873.3052\n",
      "====> Test set loss: KLD Loss = 0.0002, NLL Loss = 873.1950 \n",
      "Train Epoch: 4 [0/13400 (0%)]\t KLD Loss: 0.000210 \t NLL Loss: 873.189931\n",
      "Train Epoch: 4 [1000/13400 (7%)]\t KLD Loss: 0.000189 \t NLL Loss: 873.215083\n",
      "Train Epoch: 4 [2000/13400 (15%)]\t KLD Loss: 0.000168 \t NLL Loss: 873.187977\n",
      "Train Epoch: 4 [3000/13400 (22%)]\t KLD Loss: 0.000179 \t NLL Loss: 873.190372\n",
      "Train Epoch: 4 [4000/13400 (30%)]\t KLD Loss: 0.000153 \t NLL Loss: 873.156700\n",
      "Train Epoch: 4 [5000/13400 (37%)]\t KLD Loss: 0.000150 \t NLL Loss: 873.186941\n",
      "Train Epoch: 4 [6000/13400 (45%)]\t KLD Loss: 0.000142 \t NLL Loss: 873.150286\n",
      "Train Epoch: 4 [7000/13400 (52%)]\t KLD Loss: 0.000136 \t NLL Loss: 873.177586\n",
      "Train Epoch: 4 [8000/13400 (60%)]\t KLD Loss: 0.000221 \t NLL Loss: 873.163521\n",
      "Train Epoch: 4 [9000/13400 (67%)]\t KLD Loss: 0.000126 \t NLL Loss: 873.147151\n",
      "Train Epoch: 4 [10000/13400 (75%)]\t KLD Loss: 0.000207 \t NLL Loss: 873.129733\n",
      "Train Epoch: 4 [11000/13400 (82%)]\t KLD Loss: 0.000153 \t NLL Loss: 873.132805\n",
      "Train Epoch: 4 [12000/13400 (90%)]\t KLD Loss: 0.000124 \t NLL Loss: 873.137831\n",
      "Train Epoch: 4 [13000/13400 (97%)]\t KLD Loss: 0.000124 \t NLL Loss: 873.138340\n",
      "====> Epoch: 4 Average loss: 873.1619\n",
      "====> Test set loss: KLD Loss = 0.0001, NLL Loss = 873.1449 \n",
      "Train Epoch: 5 [0/13400 (0%)]\t KLD Loss: 0.000114 \t NLL Loss: 873.139153\n",
      "Train Epoch: 5 [1000/13400 (7%)]\t KLD Loss: 0.000161 \t NLL Loss: 873.102880\n",
      "Train Epoch: 5 [2000/13400 (15%)]\t KLD Loss: 0.000396 \t NLL Loss: 873.113001\n",
      "Train Epoch: 5 [3000/13400 (22%)]\t KLD Loss: 0.000161 \t NLL Loss: 873.099719\n",
      "Train Epoch: 5 [4000/13400 (30%)]\t KLD Loss: 0.000107 \t NLL Loss: 873.135527\n",
      "Train Epoch: 5 [5000/13400 (37%)]\t KLD Loss: 0.000113 \t NLL Loss: 873.097123\n",
      "Train Epoch: 5 [6000/13400 (45%)]\t KLD Loss: 0.000091 \t NLL Loss: 873.107181\n",
      "Train Epoch: 5 [7000/13400 (52%)]\t KLD Loss: 0.000105 \t NLL Loss: 873.083977\n",
      "Train Epoch: 5 [8000/13400 (60%)]\t KLD Loss: 0.000098 \t NLL Loss: 873.098906\n",
      "Train Epoch: 5 [9000/13400 (67%)]\t KLD Loss: 0.000172 \t NLL Loss: 873.094731\n",
      "Train Epoch: 5 [10000/13400 (75%)]\t KLD Loss: 0.000171 \t NLL Loss: 873.091461\n",
      "Train Epoch: 5 [11000/13400 (82%)]\t KLD Loss: 0.000213 \t NLL Loss: 873.074764\n",
      "Train Epoch: 5 [12000/13400 (90%)]\t KLD Loss: 0.000263 \t NLL Loss: 873.077115\n",
      "Train Epoch: 5 [13000/13400 (97%)]\t KLD Loss: 0.000124 \t NLL Loss: 873.079030\n",
      "====> Epoch: 5 Average loss: 873.1005\n",
      "====> Test set loss: KLD Loss = 0.0001, NLL Loss = 873.0805 \n"
     ]
    }
   ],
   "source": [
    "train_error = np.zeros([n_epochs , int(len (train_resampled) / batch_size ) ])\n",
    "train_div = np.zeros([n_epochs , int(len (train_resampled) / batch_size ) ])\n",
    "test_error , test_div  = np.zeros([n_epochs , len(test_resampled)]) , np.zeros([n_epochs , len(test_resampled)]) \n",
    "for epoch in range(1, n_epochs + 1):\n",
    "    tr = train(epoch)\n",
    "    train_error [epoch-1 , :] = tr [0]\n",
    "    train_div [epoch-1 , :] = tr [1] \n",
    "    te = test(epoch)\n",
    "    test_error [epoch-1 , :] = te [0]\n",
    "    test_div [epoch-1 , :] = te [1]"
   ]
  },
  {
   "cell_type": "markdown",
   "metadata": {},
   "source": [
    "## Save the Training Data, Model, Error"
   ]
  },
  {
   "cell_type": "code",
   "execution_count": 7,
   "metadata": {},
   "outputs": [],
   "source": [
    "with open(path +'P_C_train_error.pickle', 'wb') as handle:\n",
    "    pickle.dump(train_error, handle, protocol=pickle.HIGHEST_PROTOCOL)\n",
    "with open(path +'P_C_test_error.pickle', 'wb') as handle:\n",
    "    pickle.dump(test_error, handle, protocol=pickle.HIGHEST_PROTOCOL)\n",
    "with open(path +'P_C_train_div.pickle', 'wb') as handle:\n",
    "    pickle.dump(train_div, handle, protocol=pickle.HIGHEST_PROTOCOL)\n",
    "with open(path +'P_C_test_div.pickle', 'wb') as handle:\n",
    "    pickle.dump(test_div, handle, protocol=pickle.HIGHEST_PROTOCOL)\n",
    "with open(path +'P_C_Model.pickle', 'wb') as handle:\n",
    "    pickle.dump(model, handle, protocol=pickle.HIGHEST_PROTOCOL)\n",
    "with open(path +'P_C_train_loader.pickle', 'wb') as handle:\n",
    "    pickle.dump(train_loader, handle, protocol=pickle.HIGHEST_PROTOCOL)\n",
    "with open(path +'P_C_test_loader.pickle', 'wb') as handle:\n",
    "    pickle.dump(test_loader, handle, protocol=pickle.HIGHEST_PROTOCOL)"
   ]
  },
  {
   "cell_type": "markdown",
   "metadata": {},
   "source": [
    "## Reconstruct & Forecast"
   ]
  },
  {
   "cell_type": "code",
   "execution_count": 8,
   "metadata": {},
   "outputs": [],
   "source": [
    "path = 'Path to the Data'\n",
    "with open(path +'test_resampled.pickle', 'rb') as handle:\n",
    "    test_resampled = pickle.load(handle)\n",
    "test_resampled = [test_resampled[idx].values for idx in range(len(test_resampled))]\n",
    "result =  [ model (torch.tensor (test_resampled[idx]).reshape(1,48,25)) for idx in range(len(test_resampled)) ]\n",
    "torch.manual_seed(seed)\n",
    "dist = [ torch.distributions.normal.Normal (torch.cat(result[idx][3][0])[:,:7] , torch.cat(result[idx][3][1])[:,:7].mul(0.5).exp_()) for idx in range(len(result))]\n",
    "recon_x = [ dist[idx].sample((10000,)).mean(0) for idx in range(len(dist)) ]"
   ]
  },
  {
   "cell_type": "markdown",
   "metadata": {},
   "source": [
    "## 6 Step Ahead"
   ]
  },
  {
   "cell_type": "code",
   "execution_count": 9,
   "metadata": {},
   "outputs": [
    {
     "name": "stdout",
     "output_type": "stream",
     "text": [
      "Average RMSE for Test Data is: 0.010604194062817053\n",
      "Variance of RMSE for Test Data is: 0.0013377573112549105\n"
     ]
    }
   ],
   "source": [
    "error = [ _rmse(test_resampled[idx][:,:7][[38,39,40,41,42,43],:] , np.array(recon_x[idx][[38,39,40,41,42,43],:])) for idx in range(len(test_resampled)) ]\n",
    "error = pd.DataFrame (error)\n",
    "error = error.mean(axis = 1)\n",
    "print ('Average RMSE for Test Data is: '+str(error.mean()))\n",
    "print ('Variance of RMSE for Test Data is: '+str(error.std()))"
   ]
  },
  {
   "cell_type": "markdown",
   "metadata": {},
   "source": [
    "## 7 Step Ahead"
   ]
  },
  {
   "cell_type": "code",
   "execution_count": 10,
   "metadata": {},
   "outputs": [
    {
     "name": "stdout",
     "output_type": "stream",
     "text": [
      "Average RMSE for Test Data is: 0.010607871530611417\n",
      "Variance of RMSE for Test Data is: 0.0012563479562929948\n"
     ]
    }
   ],
   "source": [
    "error = [ _rmse(test_resampled[idx][:,:7][[38,39,40,41,42,43,44],:] , np.array(recon_x[idx][[38,39,40,41,42,43,44],:])) for idx in range(len(test_resampled)) ]\n",
    "error = pd.DataFrame (error)\n",
    "error = error.mean(axis = 1)\n",
    "print ('Average RMSE for Test Data is: '+str(error.mean()))\n",
    "print ('Variance of RMSE for Test Data is: '+str(error.std()))"
   ]
  },
  {
   "cell_type": "markdown",
   "metadata": {},
   "source": [
    "## 8 Step Ahead"
   ]
  },
  {
   "cell_type": "code",
   "execution_count": 11,
   "metadata": {},
   "outputs": [
    {
     "name": "stdout",
     "output_type": "stream",
     "text": [
      "Average RMSE for Test Data is: 0.01062244754474886\n",
      "Variance of RMSE for Test Data is: 0.0012006213169527616\n"
     ]
    }
   ],
   "source": [
    "error = [ _rmse(test_resampled[idx][:,:7][[38,39,40,41,42,43,44,45],:] , np.array(recon_x[idx][[38,39,40,41,42,43,44,45],:])) for idx in range(len(test_resampled)) ]\n",
    "error = pd.DataFrame (error)\n",
    "error = error.mean(axis = 1)\n",
    "print ('Average RMSE for Test Data is: '+str(error.mean()))\n",
    "print ('Variance of RMSE for Test Data is: '+str(error.std()))"
   ]
  },
  {
   "cell_type": "markdown",
   "metadata": {},
   "source": [
    "## 9 Step Ahead"
   ]
  },
  {
   "cell_type": "code",
   "execution_count": 12,
   "metadata": {},
   "outputs": [
    {
     "name": "stdout",
     "output_type": "stream",
     "text": [
      "Average RMSE for Test Data is: 0.010629717886051594\n",
      "Variance of RMSE for Test Data is: 0.001150617210542169\n"
     ]
    }
   ],
   "source": [
    "error = [ _rmse(test_resampled[idx][:,:7][[38,39,40,41,42,43,44,45,46],:] , np.array(recon_x[idx][[38,39,40,41,42,43,44,45,46],:])) for idx in range(len(test_resampled)) ]\n",
    "error = pd.DataFrame (error)\n",
    "error = error.mean(axis = 1)\n",
    "print ('Average RMSE for Test Data is: '+str(error.mean()))\n",
    "print ('Variance of RMSE for Test Data is: '+str(error.std()))"
   ]
  },
  {
   "cell_type": "markdown",
   "metadata": {},
   "source": [
    "## 10 Step Ahead"
   ]
  },
  {
   "cell_type": "code",
   "execution_count": 13,
   "metadata": {},
   "outputs": [
    {
     "name": "stdout",
     "output_type": "stream",
     "text": [
      "Average RMSE for Test Data is: 0.010625140511905785\n",
      "Variance of RMSE for Test Data is: 0.0011012571408133085\n"
     ]
    }
   ],
   "source": [
    "error = [ _rmse(test_resampled[idx][:,:7][[38,39,40,41,42,43,44,45,46,47],:] , np.array(recon_x[idx][[38,39,40,41,42,43,44,45,46,47],:])) for idx in range(len(test_resampled)) ]\n",
    "error = pd.DataFrame (error)\n",
    "error = error.mean(axis = 1)\n",
    "print ('Average RMSE for Test Data is: '+str(error.mean()))\n",
    "print ('Variance of RMSE for Test Data is: '+str(error.std()))"
   ]
  }
 ],
 "metadata": {
  "kernelspec": {
   "display_name": "Python 3",
   "language": "python",
   "name": "python3"
  },
  "language_info": {
   "codemirror_mode": {
    "name": "ipython",
    "version": 3
   },
   "file_extension": ".py",
   "mimetype": "text/x-python",
   "name": "python",
   "nbconvert_exporter": "python",
   "pygments_lexer": "ipython3",
   "version": "3.7.0"
  }
 },
 "nbformat": 4,
 "nbformat_minor": 2
}
