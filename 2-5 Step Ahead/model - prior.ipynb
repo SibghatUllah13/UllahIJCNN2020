{
 "cells": [
  {
   "cell_type": "code",
   "execution_count": 1,
   "metadata": {},
   "outputs": [],
   "source": [
    "import numpy as np\n",
    "import math\n",
    "import os\n",
    "import pickle\n",
    "import pandas as pd\n",
    "import torch\n",
    "import torch.nn as nn\n",
    "import torch.utils\n",
    "import torch.utils.data\n",
    "from torchvision import datasets, transforms\n",
    "from torch.autograd import Variable\n",
    "import matplotlib.pyplot as plt\n",
    "\n",
    "def _rmse (x, x_hat):\n",
    "    x = x[:,1:]\n",
    "    x_hat = x_hat[:,1:]\n",
    "    return np.sqrt(np.mean(((x-x_hat)**2)))"
   ]
  },
  {
   "cell_type": "markdown",
   "metadata": {},
   "source": [
    "## Load Data Sets in Memory"
   ]
  },
  {
   "cell_type": "code",
   "execution_count": 2,
   "metadata": {},
   "outputs": [],
   "source": [
    "path = 'Path to the Data'\n",
    "with open(path+'train_resampled.pickle', 'rb') as handle:\n",
    "    train_resampled = pickle.load(handle)\n",
    "with open(path+'test_resampled.pickle', 'rb') as handle:\n",
    "    test_resampled = pickle.load(handle)\n",
    "with open(path+'dis_train.pickle', 'rb') as handle:\n",
    "    dis_train = pickle.load(handle)\n",
    "with open(path+'dis_test.pickle', 'rb') as handle:\n",
    "    dis_test = pickle.load(handle)\n",
    "with open(path+'Scalar.pickle', 'rb') as handle:\n",
    "    Scalar = pickle.load(handle)\n",
    "train_resampled = train_resampled[:13400]\n",
    "dis_train = dis_train[:13400]\n",
    "train_resampled = [train_resampled[idx].values[:-5] for idx in range(len(train_resampled))]\n",
    "test_resampled = [test_resampled[idx].values[:-5] for idx in range(len(test_resampled))]"
   ]
  },
  {
   "cell_type": "markdown",
   "metadata": {},
   "source": [
    "## Variational Recurrent Neural Network (VRNN-I) "
   ]
  },
  {
   "cell_type": "code",
   "execution_count": 3,
   "metadata": {},
   "outputs": [],
   "source": [
    "class VRNN(nn.Module):\n",
    "    \n",
    "    def __init__(self, x_dim, h_dim, z_dim, n_layers, bias = True ):\n",
    "        \n",
    "        super(VRNN, self).__init__()\n",
    "\n",
    "        self.x_dim = x_dim\n",
    "        self.h_dim = h_dim\n",
    "        self.z_dim = z_dim\n",
    "        self.n_layers = n_layers\n",
    "\n",
    "        #feature-extracting transformations\n",
    "        self.phi_x = nn.Sequential( nn.Linear(self.x_dim , self.h_dim), nn.Tanh(), \n",
    "                                   nn.Linear(self.h_dim, self.h_dim), nn.Tanh())\n",
    "        self.phi_z = nn.Sequential( nn.Linear(self.z_dim, self.h_dim), nn.Tanh())\n",
    "\n",
    "        #encoder\n",
    "        self.enc = nn.Sequential( nn.Linear(self.h_dim + self.h_dim * self.n_layers , \n",
    "                                            self.h_dim), nn.Tanh(), nn.Linear(self.h_dim, self.h_dim), nn.Tanh())\n",
    "        \n",
    "        self.enc_mean = nn.Sequential( nn.Linear(self.h_dim, self.z_dim), nn.Tanh())\n",
    "        self.enc_std = nn.Sequential( nn.Linear(self.h_dim, self.z_dim), nn.Sigmoid())\n",
    "\n",
    "        \n",
    "        #decoder\n",
    "        self.dec = nn.Sequential( nn.Linear(self.h_dim + self.h_dim * self.n_layers , self.h_dim), nn.Tanh(), \n",
    "                                 nn.Linear(self.h_dim, self.h_dim), nn.Tanh())\n",
    "        self.dec_std = nn.Sequential( nn.Linear(self.h_dim, self.x_dim), nn.Sigmoid())\n",
    "        #self.dec_mean = nn.Linear(h_dim, x_dim)\n",
    "        self.dec_mean = nn.Sequential( nn.Linear( self.h_dim, self.x_dim ), nn.Tanh())\n",
    "\n",
    "        #recurrence\n",
    "        self.rnn = nn.GRU ( self.h_dim + self.h_dim + self.n_layers * self.h_dim, self.h_dim, \n",
    "                           self.n_layers, bias , batch_first = True )\n",
    "        \n",
    "    def encode (self, phi_x_t , h):\n",
    "        phi_x_t = self._concatenate (phi_x_t , h)\n",
    "        enc_t = self.enc(phi_x_t)\n",
    "        enc_mean_t = self.enc_mean(enc_t)\n",
    "        enc_std_t = self.enc_std(enc_t)\n",
    "        return enc_mean_t , enc_std_t\n",
    "        \n",
    "    \n",
    "    def decode (self, phi_z_t , h):\n",
    "        phi_z_t = self._concatenate (phi_z_t , h)\n",
    "        dec_t = self.dec(phi_z_t)\n",
    "        dec_mean_t = self.dec_mean(dec_t)\n",
    "        dec_std_t = self.dec_std(dec_t)\n",
    "        return dec_mean_t , dec_std_t\n",
    "        \n",
    "    def forward(self, x):\n",
    "        all_enc_mean, all_enc_std = [], []\n",
    "        all_dec_mean, all_dec_std = [], []\n",
    "        kld_loss = 0\n",
    "        nll_loss = 0\n",
    "\n",
    "        h = Variable(torch.zeros(self.n_layers, x.size(0), self.h_dim))\n",
    "        \n",
    "        for t in range(x.size(1)):\n",
    "            \n",
    "            phi_x_t = self.phi_x(x[:,t,:].float())\n",
    "            #encoder\n",
    "            enc_mean_t , enc_std_t = self.encode(phi_x_t , h)\n",
    "            #sampling and reparameterization\n",
    "            z_t = self._reparameterized_sample(enc_mean_t, enc_std_t)\n",
    "            phi_z_t = self.phi_z(z_t)\n",
    "            #decoder\n",
    "            dec_mean_t , dec_std_t = self.decode(phi_z_t , h)\n",
    "            \n",
    "            #recurrence\n",
    "            temp = self._concatenate ( torch.cat ( [ phi_x_t , phi_z_t ] , 1) , h )\n",
    "            _, h = self.rnn(temp.reshape(temp.shape[0] , 1 , temp.shape[1]))\n",
    "\n",
    "            #computing losses enc_std_t.mul(0.5).exp_()\n",
    "            #kld_loss += self._kld_gauss(enc_mean_t, enc_std_t, prior_mean_t, prior_std_t)\n",
    "            kld_loss += self._kld_gauss(enc_mean_t, enc_std_t)\n",
    "            nll_loss += self._nll_gauss(dec_mean_t, dec_std_t, x[:,t,:])\n",
    "                \n",
    "            all_enc_std.append(enc_std_t)\n",
    "            all_enc_mean.append(enc_mean_t)\n",
    "            all_dec_mean.append(dec_mean_t)\n",
    "            all_dec_std.append(dec_std_t)\n",
    "\n",
    "\n",
    "        return kld_loss, nll_loss,(all_enc_mean, all_enc_std),(all_dec_mean, all_dec_std)\n",
    "    \n",
    "    \n",
    "    def _reparameterized_sample(self, mean, logvar):\n",
    "        \"\"\"using std to sample\"\"\"\n",
    "        std = logvar.mul(0.5).exp_()\n",
    "        eps = torch.FloatTensor(std.size()).normal_()\n",
    "        eps = Variable(eps)\n",
    "        return eps.mul(std).add_(mean)\n",
    "\n",
    "\n",
    "    def _kld_gauss(self, mu, logvar):\n",
    "        \"\"\"Using std to compute KLD\"\"\"\n",
    "        return -0.5 * torch.sum(1 + logvar - mu.pow(2) - logvar.exp())\n",
    "        \n",
    "    def _nll_gauss(self, mean, logvar , x):\n",
    "        return torch.sum( 0.5 * np.log (2 * np.pi) + 0.5 * logvar + (x-mean)**2 / (2 *  torch.exp(logvar)) )\n",
    "    \n",
    "    def _concatenate (self , a , b) :\n",
    "        for i in range(len(b)):\n",
    "            a = torch.cat([a , b[i]] , 1)\n",
    "        return a"
   ]
  },
  {
   "cell_type": "markdown",
   "metadata": {},
   "source": [
    "## Configure the Hyper-Parameters and Model"
   ]
  },
  {
   "cell_type": "code",
   "execution_count": 4,
   "metadata": {},
   "outputs": [],
   "source": [
    "#hyperparameters\n",
    "x_dim = 7\n",
    "h_dim = 50\n",
    "z_dim = 2\n",
    "n_layers =  2\n",
    "n_epochs = 5\n",
    "clip = 10\n",
    "learning_rate = 1e-3\n",
    "batch_size = 100\n",
    "seed = 100\n",
    "print_every = 10\n",
    "save_every = 10\n",
    "#manual seed\n",
    "torch.manual_seed(seed)\n",
    "#init model + optimizer + datasets\n",
    "train_loader = torch.utils.data.DataLoader ( dataset = train_resampled ,  batch_size = 100 , shuffle= True)\n",
    "test_loader = torch.utils.data.DataLoader (  dataset = test_resampled , shuffle= True)\n",
    "model = VRNN(x_dim, h_dim, z_dim, n_layers)\n",
    "optimizer = torch.optim.Adam(model.parameters(), lr=learning_rate)"
   ]
  },
  {
   "cell_type": "markdown",
   "metadata": {},
   "source": [
    "## Train and Test the Model"
   ]
  },
  {
   "cell_type": "code",
   "execution_count": 5,
   "metadata": {},
   "outputs": [],
   "source": [
    "def train(epoch):\n",
    "    train_loss = 0\n",
    "    epoch_loss = np.zeros(int(len (train_resampled) / batch_size ))\n",
    "    epoch_div = np.zeros(int(len (train_resampled) / batch_size))\n",
    "    for batch_idx, (data) in enumerate(train_loader):\n",
    "        \n",
    "        data = Variable(data)\n",
    "        #forward + backward + optimize\n",
    "        optimizer.zero_grad()\n",
    "        kld_loss, nll_loss, _, _ = model(data)\n",
    "        epoch_loss [batch_idx] = nll_loss\n",
    "        epoch_div [batch_idx] = kld_loss\n",
    "        loss = kld_loss + nll_loss\n",
    "        loss.backward()\n",
    "        nn.utils.clip_grad_norm_(model.parameters(), clip)\n",
    "        optimizer.step()\n",
    "        #printing\n",
    "        if batch_idx % print_every == 0:\n",
    "            print('Train Epoch: {} [{}/{} ({:.0f}%)]\\t KLD Loss: {:.6f} \\t NLL Loss: {:.6f}'.format(\n",
    "                epoch, batch_idx * len(data), len(train_loader.dataset),\n",
    "                100. * batch_idx / len(train_loader),\n",
    "                kld_loss.data / batch_size,\n",
    "                nll_loss.data / batch_size))\n",
    "\n",
    "            \n",
    "\n",
    "        train_loss += loss.data\n",
    "    print('====> Epoch: {} Average loss: {:.4f}'.format(\n",
    "        epoch, train_loss / len(train_loader.dataset)))\n",
    "    return epoch_loss, epoch_div\n",
    "    \n",
    "def test(epoch):\n",
    "    \"\"\"uses test data to evaluate \n",
    "    likelihood of the model\"\"\"\n",
    "    mean_kld_loss, mean_nll_loss = 0, 0\n",
    "    epoch_loss = np.zeros(len(test_resampled))\n",
    "    epoch_div = np.zeros(len(test_resampled))\n",
    "    for i, (data) in enumerate(test_loader):                                           \n",
    "        \n",
    "        data = Variable(data.reshape(1,43,7))\n",
    "        kld_loss, nll_loss, _, _ = model(data)\n",
    "        epoch_div [i] = kld_loss\n",
    "        epoch_loss [i] = nll_loss\n",
    "        mean_kld_loss += kld_loss.data\n",
    "        mean_nll_loss += nll_loss.data\n",
    "\n",
    "    mean_kld_loss /= len(test_loader.dataset)\n",
    "    mean_nll_loss /= len(test_loader.dataset)\n",
    "\n",
    "    print('====> Test set loss: KLD Loss = {:.4f}, NLL Loss = {:.4f} '.format(\n",
    "        mean_kld_loss, mean_nll_loss))\n",
    "    return epoch_loss, epoch_div"
   ]
  },
  {
   "cell_type": "markdown",
   "metadata": {},
   "source": [
    "## Run the Training and Validation/Testing"
   ]
  },
  {
   "cell_type": "code",
   "execution_count": 6,
   "metadata": {},
   "outputs": [
    {
     "name": "stdout",
     "output_type": "stream",
     "text": [
      "Train Epoch: 1 [0/13400 (0%)]\t KLD Loss: 7.363594 \t NLL Loss: 443.559266\n",
      "Train Epoch: 1 [1000/13400 (7%)]\t KLD Loss: 3.551308 \t NLL Loss: 371.942818\n",
      "Train Epoch: 1 [2000/13400 (15%)]\t KLD Loss: 0.758812 \t NLL Loss: 334.151505\n",
      "Train Epoch: 1 [3000/13400 (22%)]\t KLD Loss: 0.225840 \t NLL Loss: 315.253081\n",
      "Train Epoch: 1 [4000/13400 (30%)]\t KLD Loss: 0.115521 \t NLL Loss: 302.151164\n",
      "Train Epoch: 1 [5000/13400 (37%)]\t KLD Loss: 0.063758 \t NLL Loss: 293.725623\n",
      "Train Epoch: 1 [6000/13400 (45%)]\t KLD Loss: 0.037426 \t NLL Loss: 288.745080\n",
      "Train Epoch: 1 [7000/13400 (52%)]\t KLD Loss: 0.031167 \t NLL Loss: 285.898203\n",
      "Train Epoch: 1 [8000/13400 (60%)]\t KLD Loss: 0.015959 \t NLL Loss: 284.326390\n",
      "Train Epoch: 1 [9000/13400 (67%)]\t KLD Loss: 0.008574 \t NLL Loss: 283.424528\n",
      "Train Epoch: 1 [10000/13400 (75%)]\t KLD Loss: 0.007410 \t NLL Loss: 282.886046\n",
      "Train Epoch: 1 [11000/13400 (82%)]\t KLD Loss: 0.005409 \t NLL Loss: 281.553807\n",
      "Train Epoch: 1 [12000/13400 (90%)]\t KLD Loss: 0.004861 \t NLL Loss: 278.305247\n",
      "Train Epoch: 1 [13000/13400 (97%)]\t KLD Loss: 0.003358 \t NLL Loss: 277.750499\n",
      "====> Epoch: 1 Average loss: 304.8430\n",
      "====> Test set loss: KLD Loss = 0.0035, NLL Loss = 277.6378 \n",
      "Train Epoch: 2 [0/13400 (0%)]\t KLD Loss: 0.003511 \t NLL Loss: 277.637160\n",
      "Train Epoch: 2 [1000/13400 (7%)]\t KLD Loss: 0.006075 \t NLL Loss: 277.297213\n",
      "Train Epoch: 2 [2000/13400 (15%)]\t KLD Loss: 0.013108 \t NLL Loss: 277.240011\n",
      "Train Epoch: 2 [3000/13400 (22%)]\t KLD Loss: 0.008408 \t NLL Loss: 277.093522\n",
      "Train Epoch: 2 [4000/13400 (30%)]\t KLD Loss: 0.010645 \t NLL Loss: 277.019181\n",
      "Train Epoch: 2 [5000/13400 (37%)]\t KLD Loss: 0.007427 \t NLL Loss: 276.989465\n",
      "Train Epoch: 2 [6000/13400 (45%)]\t KLD Loss: 0.005427 \t NLL Loss: 276.955957\n",
      "Train Epoch: 2 [7000/13400 (52%)]\t KLD Loss: 0.001702 \t NLL Loss: 276.931508\n",
      "Train Epoch: 2 [8000/13400 (60%)]\t KLD Loss: 0.001690 \t NLL Loss: 276.915786\n",
      "Train Epoch: 2 [9000/13400 (67%)]\t KLD Loss: 0.001174 \t NLL Loss: 276.871405\n",
      "Train Epoch: 2 [10000/13400 (75%)]\t KLD Loss: 0.001087 \t NLL Loss: 276.881357\n",
      "Train Epoch: 2 [11000/13400 (82%)]\t KLD Loss: 0.000974 \t NLL Loss: 276.836221\n",
      "Train Epoch: 2 [12000/13400 (90%)]\t KLD Loss: 0.000928 \t NLL Loss: 276.840890\n",
      "Train Epoch: 2 [13000/13400 (97%)]\t KLD Loss: 0.000858 \t NLL Loss: 276.803200\n",
      "====> Epoch: 2 Average loss: 277.0065\n",
      "====> Test set loss: KLD Loss = 0.0008, NLL Loss = 276.7981 \n",
      "Train Epoch: 3 [0/13400 (0%)]\t KLD Loss: 0.000831 \t NLL Loss: 276.796562\n",
      "Train Epoch: 3 [1000/13400 (7%)]\t KLD Loss: 0.000771 \t NLL Loss: 276.810377\n",
      "Train Epoch: 3 [2000/13400 (15%)]\t KLD Loss: 0.000730 \t NLL Loss: 276.770319\n",
      "Train Epoch: 3 [3000/13400 (22%)]\t KLD Loss: 0.000763 \t NLL Loss: 276.783641\n",
      "Train Epoch: 3 [4000/13400 (30%)]\t KLD Loss: 0.000827 \t NLL Loss: 276.759484\n",
      "Train Epoch: 3 [5000/13400 (37%)]\t KLD Loss: 0.000675 \t NLL Loss: 276.752185\n",
      "Train Epoch: 3 [6000/13400 (45%)]\t KLD Loss: 0.000578 \t NLL Loss: 276.736230\n",
      "Train Epoch: 3 [7000/13400 (52%)]\t KLD Loss: 0.000668 \t NLL Loss: 276.741977\n",
      "Train Epoch: 3 [8000/13400 (60%)]\t KLD Loss: 0.000517 \t NLL Loss: 276.729168\n",
      "Train Epoch: 3 [9000/13400 (67%)]\t KLD Loss: 0.000491 \t NLL Loss: 276.727554\n",
      "Train Epoch: 3 [10000/13400 (75%)]\t KLD Loss: 0.000468 \t NLL Loss: 276.712159\n",
      "Train Epoch: 3 [11000/13400 (82%)]\t KLD Loss: 0.000447 \t NLL Loss: 276.727014\n",
      "Train Epoch: 3 [12000/13400 (90%)]\t KLD Loss: 0.000451 \t NLL Loss: 276.699207\n",
      "Train Epoch: 3 [13000/13400 (97%)]\t KLD Loss: 0.001374 \t NLL Loss: 276.710137\n",
      "====> Epoch: 3 Average loss: 276.7452\n",
      "====> Test set loss: KLD Loss = 0.0015, NLL Loss = 276.7093 \n",
      "Train Epoch: 4 [0/13400 (0%)]\t KLD Loss: 0.001539 \t NLL Loss: 276.707883\n",
      "Train Epoch: 4 [1000/13400 (7%)]\t KLD Loss: 0.000834 \t NLL Loss: 276.691030\n",
      "Train Epoch: 4 [2000/13400 (15%)]\t KLD Loss: 0.001592 \t NLL Loss: 276.700038\n",
      "Train Epoch: 4 [3000/13400 (22%)]\t KLD Loss: 0.000483 \t NLL Loss: 276.681527\n",
      "Train Epoch: 4 [4000/13400 (30%)]\t KLD Loss: 0.000514 \t NLL Loss: 276.685816\n",
      "Train Epoch: 4 [5000/13400 (37%)]\t KLD Loss: 0.000534 \t NLL Loss: 276.683516\n",
      "Train Epoch: 4 [6000/13400 (45%)]\t KLD Loss: 0.000387 \t NLL Loss: 276.682654\n",
      "Train Epoch: 4 [7000/13400 (52%)]\t KLD Loss: 0.000309 \t NLL Loss: 276.671241\n",
      "Train Epoch: 4 [8000/13400 (60%)]\t KLD Loss: 0.000570 \t NLL Loss: 276.682613\n",
      "Train Epoch: 4 [9000/13400 (67%)]\t KLD Loss: 0.000315 \t NLL Loss: 276.682738\n",
      "Train Epoch: 4 [10000/13400 (75%)]\t KLD Loss: 0.000268 \t NLL Loss: 276.668482\n",
      "Train Epoch: 4 [11000/13400 (82%)]\t KLD Loss: 0.000252 \t NLL Loss: 276.665706\n",
      "Train Epoch: 4 [12000/13400 (90%)]\t KLD Loss: 0.000289 \t NLL Loss: 276.671373\n",
      "Train Epoch: 4 [13000/13400 (97%)]\t KLD Loss: 0.000265 \t NLL Loss: 276.658039\n",
      "====> Epoch: 4 Average loss: 276.6801\n",
      "====> Test set loss: KLD Loss = 0.0003, NLL Loss = 276.6583 \n",
      "Train Epoch: 5 [0/13400 (0%)]\t KLD Loss: 0.000279 \t NLL Loss: 276.656686\n",
      "Train Epoch: 5 [1000/13400 (7%)]\t KLD Loss: 0.001032 \t NLL Loss: 276.669715\n",
      "Train Epoch: 5 [2000/13400 (15%)]\t KLD Loss: 0.000511 \t NLL Loss: 276.652474\n",
      "Train Epoch: 5 [3000/13400 (22%)]\t KLD Loss: 0.002183 \t NLL Loss: 276.666518\n",
      "Train Epoch: 5 [4000/13400 (30%)]\t KLD Loss: 0.000813 \t NLL Loss: 276.651497\n",
      "Train Epoch: 5 [5000/13400 (37%)]\t KLD Loss: 0.000852 \t NLL Loss: 276.652701\n",
      "Train Epoch: 5 [6000/13400 (45%)]\t KLD Loss: 0.000297 \t NLL Loss: 276.651371\n",
      "Train Epoch: 5 [7000/13400 (52%)]\t KLD Loss: 0.000181 \t NLL Loss: 276.651193\n",
      "Train Epoch: 5 [8000/13400 (60%)]\t KLD Loss: 0.000229 \t NLL Loss: 276.648900\n",
      "Train Epoch: 5 [9000/13400 (67%)]\t KLD Loss: 0.000186 \t NLL Loss: 276.650795\n",
      "Train Epoch: 5 [10000/13400 (75%)]\t KLD Loss: 0.000167 \t NLL Loss: 276.644621\n",
      "Train Epoch: 5 [11000/13400 (82%)]\t KLD Loss: 0.000168 \t NLL Loss: 276.673386\n",
      "Train Epoch: 5 [12000/13400 (90%)]\t KLD Loss: 0.000199 \t NLL Loss: 276.639630\n",
      "Train Epoch: 5 [13000/13400 (97%)]\t KLD Loss: 0.001262 \t NLL Loss: 276.636164\n",
      "====> Epoch: 5 Average loss: 276.6537\n",
      "====> Test set loss: KLD Loss = 0.0057, NLL Loss = 276.6430 \n"
     ]
    }
   ],
   "source": [
    "train_error = np.zeros([n_epochs , int(len (train_resampled) / batch_size ) ])\n",
    "train_div = np.zeros([n_epochs , int(len (train_resampled) / batch_size ) ])\n",
    "test_error , test_div  = np.zeros([n_epochs , len(test_resampled)]) , np.zeros([n_epochs , len(test_resampled)]) \n",
    "for epoch in range(1, n_epochs + 1):\n",
    "    tr = train(epoch)\n",
    "    train_error [epoch-1 , :] = tr [0]\n",
    "    train_div [epoch-1 , :] = tr [1] \n",
    "    te = test(epoch)\n",
    "    test_error [epoch-1 , :] = te [0]\n",
    "    test_div [epoch-1 , :] = te [1]"
   ]
  },
  {
   "cell_type": "markdown",
   "metadata": {},
   "source": [
    "## Save the Training Data, Model, Error"
   ]
  },
  {
   "cell_type": "code",
   "execution_count": 7,
   "metadata": {},
   "outputs": [],
   "source": [
    "with open(path +'P_train_error.pickle', 'wb') as handle:\n",
    "    pickle.dump(train_error, handle, protocol=pickle.HIGHEST_PROTOCOL)\n",
    "with open(path +'P_test_error.pickle', 'wb') as handle:\n",
    "    pickle.dump(test_error, handle, protocol=pickle.HIGHEST_PROTOCOL)\n",
    "with open(path +'P_train_div.pickle', 'wb') as handle:\n",
    "    pickle.dump(train_div, handle, protocol=pickle.HIGHEST_PROTOCOL)\n",
    "with open(path +'P_test_div.pickle', 'wb') as handle:\n",
    "    pickle.dump(test_div, handle, protocol=pickle.HIGHEST_PROTOCOL)\n",
    "with open(path +'P_Model.pickle', 'wb') as handle:\n",
    "    pickle.dump(model, handle, protocol=pickle.HIGHEST_PROTOCOL)\n",
    "with open(path +'P_train_loader.pickle', 'wb') as handle:\n",
    "    pickle.dump(train_loader, handle, protocol=pickle.HIGHEST_PROTOCOL)\n",
    "with open(path +'P_test_loader.pickle', 'wb') as handle:\n",
    "    pickle.dump(test_loader, handle, protocol=pickle.HIGHEST_PROTOCOL)"
   ]
  },
  {
   "cell_type": "markdown",
   "metadata": {},
   "source": [
    "## Reconstruct & Forecast"
   ]
  },
  {
   "cell_type": "code",
   "execution_count": 8,
   "metadata": {},
   "outputs": [],
   "source": [
    "path = 'Path to the Test Data'\n",
    "with open(path, 'rb') as handle:\n",
    "    test_resampled = pickle.load(handle)\n",
    "test_resampled = [test_resampled[idx].values for idx in range(len(test_resampled))]\n",
    "result =  [ model (torch.tensor (test_resampled[idx]).reshape(1,48,7)) for idx in range(len(test_resampled)) ]\n",
    "torch.manual_seed(seed)\n",
    "dist = [ torch.distributions.normal.Normal (torch.cat(result[idx][3][0]) , torch.cat(result[idx][3][1]).mul(0.5).exp_()) for idx in range(len(result))]\n",
    "recon_x = [ dist[idx].sample((10000,)).mean(0) for idx in range(len(dist)) ]"
   ]
  },
  {
   "cell_type": "markdown",
   "metadata": {},
   "source": [
    "## 2 Step Ahead"
   ]
  },
  {
   "cell_type": "code",
   "execution_count": 9,
   "metadata": {},
   "outputs": [
    {
     "name": "stdout",
     "output_type": "stream",
     "text": [
      "Average RMSE for Test Data is: 0.010478341105488983\n",
      "Variance of RMSE for Test Data is: 0.0022202602688353827\n"
     ]
    }
   ],
   "source": [
    "error = [ _rmse(test_resampled[idx][[43,44],:] , np.array(recon_x[idx][[43,44],:])) for idx in range(len(test_resampled)) ]\n",
    "print ('Average RMSE for Test Data is: '+str(np.mean(error)))\n",
    "print ('Variance of RMSE for Test Data is: '+str(np.std(error)))"
   ]
  },
  {
   "cell_type": "markdown",
   "metadata": {},
   "source": [
    "## 3 Step Ahead"
   ]
  },
  {
   "cell_type": "code",
   "execution_count": 10,
   "metadata": {},
   "outputs": [
    {
     "name": "stdout",
     "output_type": "stream",
     "text": [
      "Average RMSE for Test Data is: 0.010590752066209729\n",
      "Variance of RMSE for Test Data is: 0.001846978420547396\n"
     ]
    }
   ],
   "source": [
    "error = [ _rmse(test_resampled[idx][[43,44,45],:] , np.array(recon_x[idx][[43,44,45],:])) for idx in range(len(test_resampled)) ]\n",
    "print ('Average RMSE for Test Data is: '+str(np.mean(error)))\n",
    "print ('Variance of RMSE for Test Data is: '+str(np.std(error)))"
   ]
  },
  {
   "cell_type": "markdown",
   "metadata": {},
   "source": [
    "## 4 Step Ahead"
   ]
  },
  {
   "cell_type": "code",
   "execution_count": 11,
   "metadata": {},
   "outputs": [
    {
     "name": "stdout",
     "output_type": "stream",
     "text": [
      "Average RMSE for Test Data is: 0.010627435916037981\n",
      "Variance of RMSE for Test Data is: 0.0016457867336192972\n"
     ]
    }
   ],
   "source": [
    "error = [ _rmse(test_resampled[idx][[43,44,45,46],:] , np.array(recon_x[idx][[43,44,45,46],:])) for idx in range(len(test_resampled)) ]\n",
    "print ('Average RMSE for Test Data is: '+str(np.mean(error)))\n",
    "print ('Variance of RMSE for Test Data is: '+str(np.std(error)))"
   ]
  },
  {
   "cell_type": "markdown",
   "metadata": {},
   "source": [
    "## 5 Step Ahead"
   ]
  },
  {
   "cell_type": "code",
   "execution_count": 12,
   "metadata": {},
   "outputs": [
    {
     "name": "stdout",
     "output_type": "stream",
     "text": [
      "Average RMSE for Test Data is: 0.01063419315272696\n",
      "Variance of RMSE for Test Data is: 0.0014946512127704413\n"
     ]
    }
   ],
   "source": [
    "error = [ _rmse(test_resampled[idx][[43,44,45,46,47],:] , np.array(recon_x[idx][[43,44,45,46,47],:])) for idx in range(len(test_resampled)) ]\n",
    "print ('Average RMSE for Test Data is: '+str(np.mean(error)))\n",
    "print ('Variance of RMSE for Test Data is: '+str(np.std(error)))"
   ]
  }
 ],
 "metadata": {
  "kernelspec": {
   "display_name": "Python 3",
   "language": "python",
   "name": "python3"
  },
  "language_info": {
   "codemirror_mode": {
    "name": "ipython",
    "version": 3
   },
   "file_extension": ".py",
   "mimetype": "text/x-python",
   "name": "python",
   "nbconvert_exporter": "python",
   "pygments_lexer": "ipython3",
   "version": "3.7.0"
  }
 },
 "nbformat": 4,
 "nbformat_minor": 2
}
