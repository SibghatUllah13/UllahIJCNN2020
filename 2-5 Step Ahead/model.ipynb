{
 "cells": [
  {
   "cell_type": "code",
   "execution_count": 1,
   "metadata": {},
   "outputs": [],
   "source": [
    "import numpy as np\n",
    "import math\n",
    "import os\n",
    "import pickle\n",
    "import pandas as pd\n",
    "import torch\n",
    "import torch.nn as nn\n",
    "import torch.utils\n",
    "import torch.utils.data\n",
    "from torchvision import datasets, transforms\n",
    "from torch.autograd import Variable\n",
    "import matplotlib.pyplot as plt\n",
    "\n",
    "def _rmse (x, x_hat):\n",
    "    x = x[:,1:]\n",
    "    x_hat = x_hat[:,1:]\n",
    "    return np.sqrt(np.mean(((x-x_hat)**2)))"
   ]
  },
  {
   "cell_type": "markdown",
   "metadata": {},
   "source": [
    "## Load Data Sets in Memory"
   ]
  },
  {
   "cell_type": "code",
   "execution_count": 2,
   "metadata": {},
   "outputs": [],
   "source": [
    "path = 'Path to the Data'\n",
    "with open(path+'train_resampled.pickle', 'rb') as handle:\n",
    "    train_resampled = pickle.load(handle)\n",
    "with open(path+'test_resampled.pickle', 'rb') as handle:\n",
    "    test_resampled = pickle.load(handle)\n",
    "with open(path+'dis_train.pickle', 'rb') as handle:\n",
    "    dis_train = pickle.load(handle)\n",
    "with open(path+'dis_test.pickle', 'rb') as handle:\n",
    "    dis_test = pickle.load(handle)\n",
    "with open(path+'Scalar.pickle', 'rb') as handle:\n",
    "    Scalar = pickle.load(handle)\n",
    "train_resampled = train_resampled[:13400]\n",
    "dis_train = dis_train[:13400]\n",
    "train_resampled = [train_resampled[idx].values[:-5] for idx in range(len(train_resampled))]\n",
    "test_resampled = [test_resampled[idx].values[:-5] for idx in range(len(test_resampled))]"
   ]
  },
  {
   "cell_type": "markdown",
   "metadata": {},
   "source": [
    "## Variational Recurrent Neural Network "
   ]
  },
  {
   "cell_type": "code",
   "execution_count": 3,
   "metadata": {},
   "outputs": [],
   "source": [
    "class VRNN(nn.Module):\n",
    "    \n",
    "    def __init__(self, x_dim, h_dim, z_dim, n_layers, bias = True ):\n",
    "        \n",
    "        super(VRNN, self).__init__()\n",
    "\n",
    "        self.x_dim = x_dim\n",
    "        self.h_dim = h_dim\n",
    "        self.z_dim = z_dim\n",
    "        self.n_layers = n_layers\n",
    "\n",
    "        #feature-extracting transformations\n",
    "        self.phi_x = nn.Sequential( nn.Linear(self.x_dim , self.h_dim), nn.Tanh(), \n",
    "                                   nn.Linear(self.h_dim, self.h_dim), nn.Tanh())\n",
    "        self.phi_z = nn.Sequential( nn.Linear(self.z_dim, self.h_dim), nn.Tanh())\n",
    "\n",
    "        #encoder\n",
    "        self.enc = nn.Sequential( nn.Linear(self.h_dim + self.h_dim * self.n_layers , \n",
    "                                            self.h_dim), nn.Tanh(), nn.Linear(self.h_dim, self.h_dim), nn.Tanh())\n",
    "        \n",
    "        self.enc_mean = nn.Sequential( nn.Linear(self.h_dim, self.z_dim), nn.Tanh())\n",
    "        self.enc_std = nn.Sequential( nn.Linear(self.h_dim, self.z_dim), nn.Sigmoid())\n",
    "\n",
    "        #prior\n",
    "        self.prior = nn.Sequential( nn.Linear(self.n_layers * self.h_dim, self.h_dim), nn.Tanh())\n",
    "        self.prior_mean = nn.Sequential( nn.Linear(self.h_dim, self.z_dim), nn.Tanh())\n",
    "        self.prior_std = nn.Sequential( nn.Linear(self.h_dim, self.z_dim), nn.Sigmoid())\n",
    "\n",
    "        #decoder\n",
    "        self.dec = nn.Sequential( nn.Linear(self.h_dim + self.h_dim * self.n_layers , self.h_dim), nn.Tanh(), \n",
    "                                 nn.Linear(self.h_dim, self.h_dim), nn.Tanh())\n",
    "        self.dec_std = nn.Sequential( nn.Linear(self.h_dim, self.x_dim), nn.Sigmoid())\n",
    "        #self.dec_mean = nn.Linear(h_dim, x_dim)\n",
    "        self.dec_mean = nn.Sequential( nn.Linear( self.h_dim, self.x_dim ), nn.Tanh())\n",
    "\n",
    "        #recurrence\n",
    "        self.rnn = nn.GRU ( self.h_dim + self.h_dim + self.n_layers * self.h_dim, self.h_dim, \n",
    "                           self.n_layers, bias , batch_first = True )\n",
    "        \n",
    "    def encode (self, phi_x_t , h):\n",
    "        phi_x_t = self._concatenate (phi_x_t , h)\n",
    "        enc_t = self.enc(phi_x_t)\n",
    "        enc_mean_t = self.enc_mean(enc_t)\n",
    "        enc_std_t = self.enc_std(enc_t)\n",
    "        return enc_mean_t , enc_std_t\n",
    "        \n",
    "    \n",
    "    def decode (self, phi_z_t , h):\n",
    "        phi_z_t = self._concatenate (phi_z_t , h)\n",
    "        dec_t = self.dec(phi_z_t)\n",
    "        dec_mean_t = self.dec_mean(dec_t)\n",
    "        dec_std_t = self.dec_std(dec_t)\n",
    "        return dec_mean_t , dec_std_t\n",
    "        \n",
    "    def forward(self, x):\n",
    "        all_enc_mean, all_enc_std = [], []\n",
    "        all_dec_mean, all_dec_std = [], []\n",
    "        kld_loss = 0\n",
    "        nll_loss = 0\n",
    "\n",
    "        h = Variable(torch.zeros(self.n_layers, x.size(0), self.h_dim))\n",
    "        \n",
    "        for t in range(x.size(1)):\n",
    "            \n",
    "            phi_x_t = self.phi_x(x[:,t,:].float())\n",
    "            #encoder\n",
    "            enc_mean_t , enc_std_t = self.encode(phi_x_t , h)\n",
    "            #prior\n",
    "            prior_t = self.prior(h.reshape (h.shape[1] , n_layers * h_dim))\n",
    "            prior_mean_t = self.prior_mean(prior_t)\n",
    "            prior_std_t = self.prior_std(prior_t)\n",
    "            #sampling and reparameterization\n",
    "            z_t = self._reparameterized_sample(enc_mean_t, enc_std_t)\n",
    "            phi_z_t = self.phi_z(z_t)\n",
    "            #decoder\n",
    "            dec_mean_t , dec_std_t = self.decode(phi_z_t , h)\n",
    "            \n",
    "            #recurrence\n",
    "            temp = self._concatenate ( torch.cat ( [ phi_x_t , phi_z_t ] , 1) , h )\n",
    "            _, h = self.rnn(temp.reshape(temp.shape[0] , 1 , temp.shape[1]))\n",
    "\n",
    "            #computing losses enc_std_t.mul(0.5).exp_()\n",
    "            #kld_loss += self._kld_gauss(enc_mean_t, enc_std_t, prior_mean_t, prior_std_t)\n",
    "            kld_loss += self._kld_gauss(enc_mean_t, enc_std_t.mul(0.5).exp_(), prior_mean_t, prior_std_t.mul(0.5).exp_())\n",
    "            nll_loss += self._nll_gauss(dec_mean_t, dec_std_t, x[:,t,:])\n",
    "                \n",
    "            all_enc_std.append(enc_std_t)\n",
    "            all_enc_mean.append(enc_mean_t)\n",
    "            all_dec_mean.append(dec_mean_t)\n",
    "            all_dec_std.append(dec_std_t)\n",
    "\n",
    "\n",
    "        return kld_loss, nll_loss,(all_enc_mean, all_enc_std),(all_dec_mean, all_dec_std)\n",
    "    \n",
    "    def _reparameterized_sample(self, mean, logvar):\n",
    "        \"\"\"using std to sample\"\"\"\n",
    "        std = logvar.mul(0.5).exp_()\n",
    "        eps = torch.FloatTensor(std.size()).normal_()\n",
    "        eps = Variable(eps)\n",
    "        return eps.mul(std).add_(mean)\n",
    "\n",
    "\n",
    "    def _kld_gauss(self, mean_1, std_1, mean_2, std_2):\n",
    "        \"\"\"Using std to compute KLD\"\"\"\n",
    "        kld_element =  (2 * torch.log(std_2) - 2 * torch.log(std_1) +\n",
    "            (std_1.pow(2) + (mean_1 - mean_2).pow(2)) /\n",
    "            std_2.pow(2) - 1)\n",
    "        return 0.5 * torch.sum(kld_element)\n",
    "    \n",
    "    def _nll_gauss(self, mean, logvar , x):\n",
    "        return torch.sum( 0.5 * np.log (2 * np.pi) + 0.5 * logvar + (x-mean)**2 / (2 *  torch.exp(logvar)) )\n",
    "    \n",
    "    def _concatenate (self , a , b) :\n",
    "        for i in range(len(b)):\n",
    "            a = torch.cat([a , b[i]] , 1)\n",
    "        return a"
   ]
  },
  {
   "cell_type": "markdown",
   "metadata": {},
   "source": [
    "## Configure the Hyper-Parameters and Model"
   ]
  },
  {
   "cell_type": "code",
   "execution_count": 4,
   "metadata": {},
   "outputs": [],
   "source": [
    "#hyperparameters\n",
    "x_dim = 7\n",
    "h_dim = 50\n",
    "z_dim = 2\n",
    "n_layers =  2\n",
    "n_epochs = 5\n",
    "clip = 10\n",
    "learning_rate = 1e-3\n",
    "batch_size = 100\n",
    "seed = 100\n",
    "print_every = 10\n",
    "save_every = 10\n",
    "#manual seed\n",
    "torch.manual_seed(seed)\n",
    "#init model + optimizer + datasets\n",
    "train_loader = torch.utils.data.DataLoader ( dataset = train_resampled ,  batch_size = 100 , shuffle= True)\n",
    "test_loader = torch.utils.data.DataLoader (  dataset = test_resampled , shuffle= True)\n",
    "model = VRNN(x_dim, h_dim, z_dim, n_layers)\n",
    "optimizer = torch.optim.Adam(model.parameters(), lr=learning_rate)"
   ]
  },
  {
   "cell_type": "markdown",
   "metadata": {},
   "source": [
    "## Train and Test the Model"
   ]
  },
  {
   "cell_type": "code",
   "execution_count": 5,
   "metadata": {},
   "outputs": [],
   "source": [
    "def train(epoch):\n",
    "    train_loss = 0\n",
    "    epoch_loss = np.zeros(int(len (train_resampled) / batch_size ))\n",
    "    epoch_div = np.zeros(int(len (train_resampled) / batch_size))\n",
    "    for batch_idx, (data) in enumerate(train_loader):\n",
    "        \n",
    "        data = Variable(data)\n",
    "        #forward + backward + optimize\n",
    "        optimizer.zero_grad()\n",
    "        kld_loss, nll_loss, _, _ = model(data)\n",
    "        epoch_loss [batch_idx] = nll_loss\n",
    "        epoch_div [batch_idx] = kld_loss\n",
    "        loss = kld_loss + nll_loss\n",
    "        loss.backward()\n",
    "        nn.utils.clip_grad_norm_(model.parameters(), clip)\n",
    "        optimizer.step()\n",
    "        #printing\n",
    "        if batch_idx % print_every == 0:\n",
    "            print('Train Epoch: {} [{}/{} ({:.0f}%)]\\t KLD Loss: {:.6f} \\t NLL Loss: {:.6f}'.format(\n",
    "                epoch, batch_idx * len(data), len(train_loader.dataset),\n",
    "                100. * batch_idx / len(train_loader),\n",
    "                kld_loss.data / batch_size,\n",
    "                nll_loss.data / batch_size))\n",
    "\n",
    "            \n",
    "\n",
    "        train_loss += loss.data\n",
    "    print('====> Epoch: {} Average loss: {:.4f}'.format(\n",
    "        epoch, train_loss / len(train_loader.dataset)))\n",
    "    return epoch_loss, epoch_div\n",
    "    \n",
    "def test(epoch):\n",
    "    \"\"\"uses test data to evaluate \n",
    "    likelihood of the model\"\"\"\n",
    "    mean_kld_loss, mean_nll_loss = 0, 0\n",
    "    epoch_loss = np.zeros(len(test_resampled))\n",
    "    epoch_div = np.zeros(len(test_resampled))\n",
    "    for i, (data) in enumerate(test_loader):                                           \n",
    "        \n",
    "        data = Variable(data.reshape(1,43,7))\n",
    "        kld_loss, nll_loss, _, _ = model(data)\n",
    "        epoch_div [i] = kld_loss\n",
    "        epoch_loss [i] = nll_loss\n",
    "        mean_kld_loss += kld_loss.data\n",
    "        mean_nll_loss += nll_loss.data\n",
    "\n",
    "    mean_kld_loss /= len(test_loader.dataset)\n",
    "    mean_nll_loss /= len(test_loader.dataset)\n",
    "\n",
    "    print('====> Test set loss: KLD Loss = {:.4f}, NLL Loss = {:.4f} '.format(\n",
    "        mean_kld_loss, mean_nll_loss))\n",
    "    return epoch_loss, epoch_div"
   ]
  },
  {
   "cell_type": "markdown",
   "metadata": {},
   "source": [
    "## Run the Training and Validation/Testing"
   ]
  },
  {
   "cell_type": "code",
   "execution_count": 6,
   "metadata": {},
   "outputs": [
    {
     "name": "stdout",
     "output_type": "stream",
     "text": [
      "Train Epoch: 1 [0/13400 (0%)]\t KLD Loss: 0.732018 \t NLL Loss: 433.686924\n",
      "Train Epoch: 1 [1000/13400 (7%)]\t KLD Loss: 0.281475 \t NLL Loss: 376.478807\n",
      "Train Epoch: 1 [2000/13400 (15%)]\t KLD Loss: 0.099494 \t NLL Loss: 332.756466\n",
      "Train Epoch: 1 [3000/13400 (22%)]\t KLD Loss: 0.091099 \t NLL Loss: 311.409683\n",
      "Train Epoch: 1 [4000/13400 (30%)]\t KLD Loss: 0.033706 \t NLL Loss: 298.078661\n",
      "Train Epoch: 1 [5000/13400 (37%)]\t KLD Loss: 0.019270 \t NLL Loss: 290.844662\n",
      "Train Epoch: 1 [6000/13400 (45%)]\t KLD Loss: 0.013224 \t NLL Loss: 287.027776\n",
      "Train Epoch: 1 [7000/13400 (52%)]\t KLD Loss: 0.005155 \t NLL Loss: 284.949032\n",
      "Train Epoch: 1 [8000/13400 (60%)]\t KLD Loss: 0.002403 \t NLL Loss: 283.781853\n",
      "Train Epoch: 1 [9000/13400 (67%)]\t KLD Loss: 0.001751 \t NLL Loss: 283.100662\n",
      "Train Epoch: 1 [10000/13400 (75%)]\t KLD Loss: 0.001934 \t NLL Loss: 282.564199\n",
      "Train Epoch: 1 [11000/13400 (82%)]\t KLD Loss: 0.003774 \t NLL Loss: 280.523000\n",
      "Train Epoch: 1 [12000/13400 (90%)]\t KLD Loss: 0.012737 \t NLL Loss: 278.311525\n",
      "Train Epoch: 1 [13000/13400 (97%)]\t KLD Loss: 0.055011 \t NLL Loss: 277.899725\n",
      "====> Epoch: 1 Average loss: 303.0330\n",
      "====> Test set loss: KLD Loss = 0.1068, NLL Loss = 278.0562 \n",
      "Train Epoch: 2 [0/13400 (0%)]\t KLD Loss: 0.027694 \t NLL Loss: 278.079230\n",
      "Train Epoch: 2 [1000/13400 (7%)]\t KLD Loss: 0.015815 \t NLL Loss: 277.285622\n",
      "Train Epoch: 2 [2000/13400 (15%)]\t KLD Loss: 0.005714 \t NLL Loss: 277.431813\n",
      "Train Epoch: 2 [3000/13400 (22%)]\t KLD Loss: 0.007600 \t NLL Loss: 277.193993\n",
      "Train Epoch: 2 [4000/13400 (30%)]\t KLD Loss: 0.020868 \t NLL Loss: 277.096010\n",
      "Train Epoch: 2 [5000/13400 (37%)]\t KLD Loss: 0.004989 \t NLL Loss: 277.044534\n",
      "Train Epoch: 2 [6000/13400 (45%)]\t KLD Loss: 0.003269 \t NLL Loss: 276.963615\n",
      "Train Epoch: 2 [7000/13400 (52%)]\t KLD Loss: 0.013688 \t NLL Loss: 276.897817\n",
      "Train Epoch: 2 [8000/13400 (60%)]\t KLD Loss: 0.001830 \t NLL Loss: 276.859818\n",
      "Train Epoch: 2 [9000/13400 (67%)]\t KLD Loss: 0.001104 \t NLL Loss: 276.856006\n",
      "Train Epoch: 2 [10000/13400 (75%)]\t KLD Loss: 0.001613 \t NLL Loss: 276.818063\n",
      "Train Epoch: 2 [11000/13400 (82%)]\t KLD Loss: 0.000619 \t NLL Loss: 276.814360\n",
      "Train Epoch: 2 [12000/13400 (90%)]\t KLD Loss: 0.001949 \t NLL Loss: 276.784255\n",
      "Train Epoch: 2 [13000/13400 (97%)]\t KLD Loss: 0.000757 \t NLL Loss: 276.784584\n",
      "====> Epoch: 2 Average loss: 277.0277\n",
      "====> Test set loss: KLD Loss = 0.0181, NLL Loss = 276.7801 \n",
      "Train Epoch: 3 [0/13400 (0%)]\t KLD Loss: 0.000645 \t NLL Loss: 276.777948\n",
      "Train Epoch: 3 [1000/13400 (7%)]\t KLD Loss: 0.002600 \t NLL Loss: 276.761861\n",
      "Train Epoch: 3 [2000/13400 (15%)]\t KLD Loss: 0.000345 \t NLL Loss: 276.758420\n",
      "Train Epoch: 3 [3000/13400 (22%)]\t KLD Loss: 0.001589 \t NLL Loss: 276.742491\n",
      "Train Epoch: 3 [4000/13400 (30%)]\t KLD Loss: 0.000391 \t NLL Loss: 276.744369\n",
      "Train Epoch: 3 [5000/13400 (37%)]\t KLD Loss: 0.001878 \t NLL Loss: 276.727612\n",
      "Train Epoch: 3 [6000/13400 (45%)]\t KLD Loss: 0.000383 \t NLL Loss: 276.729224\n",
      "Train Epoch: 3 [7000/13400 (52%)]\t KLD Loss: 0.002568 \t NLL Loss: 276.715420\n",
      "Train Epoch: 3 [8000/13400 (60%)]\t KLD Loss: 0.000274 \t NLL Loss: 276.715678\n",
      "Train Epoch: 3 [9000/13400 (67%)]\t KLD Loss: 0.001203 \t NLL Loss: 276.706997\n",
      "Train Epoch: 3 [10000/13400 (75%)]\t KLD Loss: 0.000194 \t NLL Loss: 276.707645\n",
      "Train Epoch: 3 [11000/13400 (82%)]\t KLD Loss: 0.000807 \t NLL Loss: 276.695483\n",
      "Train Epoch: 3 [12000/13400 (90%)]\t KLD Loss: 0.000620 \t NLL Loss: 276.704183\n",
      "Train Epoch: 3 [13000/13400 (97%)]\t KLD Loss: 0.003538 \t NLL Loss: 276.687171\n",
      "====> Epoch: 3 Average loss: 276.7264\n",
      "====> Test set loss: KLD Loss = 0.0094, NLL Loss = 276.6881 \n",
      "Train Epoch: 4 [0/13400 (0%)]\t KLD Loss: 0.004085 \t NLL Loss: 276.686367\n",
      "Train Epoch: 4 [1000/13400 (7%)]\t KLD Loss: 0.000226 \t NLL Loss: 276.686802\n",
      "Train Epoch: 4 [2000/13400 (15%)]\t KLD Loss: 0.000743 \t NLL Loss: 276.683220\n",
      "Train Epoch: 4 [3000/13400 (22%)]\t KLD Loss: 0.000293 \t NLL Loss: 276.683506\n",
      "Train Epoch: 4 [4000/13400 (30%)]\t KLD Loss: 0.000237 \t NLL Loss: 276.672542\n",
      "Train Epoch: 4 [5000/13400 (37%)]\t KLD Loss: 0.000355 \t NLL Loss: 276.686864\n",
      "Train Epoch: 4 [6000/13400 (45%)]\t KLD Loss: 0.000763 \t NLL Loss: 276.664119\n",
      "Train Epoch: 4 [7000/13400 (52%)]\t KLD Loss: 0.001128 \t NLL Loss: 276.679962\n",
      "Train Epoch: 4 [8000/13400 (60%)]\t KLD Loss: 0.006710 \t NLL Loss: 276.659797\n",
      "Train Epoch: 4 [9000/13400 (67%)]\t KLD Loss: 0.001321 \t NLL Loss: 276.664102\n",
      "Train Epoch: 4 [10000/13400 (75%)]\t KLD Loss: 0.000412 \t NLL Loss: 276.663892\n",
      "Train Epoch: 4 [11000/13400 (82%)]\t KLD Loss: 0.000203 \t NLL Loss: 276.664299\n",
      "Train Epoch: 4 [12000/13400 (90%)]\t KLD Loss: 0.000445 \t NLL Loss: 276.652671\n",
      "Train Epoch: 4 [13000/13400 (97%)]\t KLD Loss: 0.000187 \t NLL Loss: 276.667238\n",
      "====> Epoch: 4 Average loss: 276.6734\n",
      "====> Test set loss: KLD Loss = 0.0104, NLL Loss = 276.6693 \n",
      "Train Epoch: 5 [0/13400 (0%)]\t KLD Loss: 0.000180 \t NLL Loss: 276.667211\n",
      "Train Epoch: 5 [1000/13400 (7%)]\t KLD Loss: 0.000375 \t NLL Loss: 276.646483\n",
      "Train Epoch: 5 [2000/13400 (15%)]\t KLD Loss: 0.000353 \t NLL Loss: 276.660300\n",
      "Train Epoch: 5 [3000/13400 (22%)]\t KLD Loss: 0.001409 \t NLL Loss: 276.651560\n",
      "Train Epoch: 5 [4000/13400 (30%)]\t KLD Loss: 0.000333 \t NLL Loss: 276.647548\n",
      "Train Epoch: 5 [5000/13400 (37%)]\t KLD Loss: 0.000146 \t NLL Loss: 276.646109\n",
      "Train Epoch: 5 [6000/13400 (45%)]\t KLD Loss: 0.000107 \t NLL Loss: 276.654214\n",
      "Train Epoch: 5 [7000/13400 (52%)]\t KLD Loss: 0.000432 \t NLL Loss: 276.638746\n",
      "Train Epoch: 5 [8000/13400 (60%)]\t KLD Loss: 0.000636 \t NLL Loss: 276.652269\n",
      "Train Epoch: 5 [9000/13400 (67%)]\t KLD Loss: 0.001151 \t NLL Loss: 276.644933\n",
      "Train Epoch: 5 [10000/13400 (75%)]\t KLD Loss: 0.000386 \t NLL Loss: 276.638956\n",
      "Train Epoch: 5 [11000/13400 (82%)]\t KLD Loss: 0.000103 \t NLL Loss: 276.640910\n",
      "Train Epoch: 5 [12000/13400 (90%)]\t KLD Loss: 0.000093 \t NLL Loss: 276.645349\n",
      "Train Epoch: 5 [13000/13400 (97%)]\t KLD Loss: 0.000165 \t NLL Loss: 276.633749\n",
      "====> Epoch: 5 Average loss: 276.6485\n",
      "====> Test set loss: KLD Loss = 0.0122, NLL Loss = 276.6347 \n"
     ]
    }
   ],
   "source": [
    "train_error = np.zeros([n_epochs , int(len (train_resampled) / batch_size ) ])\n",
    "train_div = np.zeros([n_epochs , int(len (train_resampled) / batch_size ) ])\n",
    "test_error , test_div  = np.zeros([n_epochs , len(test_resampled)]) , np.zeros([n_epochs , len(test_resampled)]) \n",
    "for epoch in range(1, n_epochs + 1):\n",
    "    #training + testing\n",
    "    tr = train(epoch)\n",
    "    train_error [epoch-1 , :] = tr [0]\n",
    "    train_div [epoch-1 , :] = tr [1] \n",
    "    te = test(epoch)\n",
    "    test_error [epoch-1 , :] = te [0]\n",
    "    test_div [epoch-1 , :] = te [1]"
   ]
  },
  {
   "cell_type": "markdown",
   "metadata": {},
   "source": [
    "## Save the Training Data, Model, Error"
   ]
  },
  {
   "cell_type": "code",
   "execution_count": 7,
   "metadata": {},
   "outputs": [],
   "source": [
    "with open(path +'_train_error.pickle', 'wb') as handle:\n",
    "    pickle.dump(train_error, handle, protocol=pickle.HIGHEST_PROTOCOL)\n",
    "with open(path +'_test_error.pickle', 'wb') as handle:\n",
    "    pickle.dump(test_error, handle, protocol=pickle.HIGHEST_PROTOCOL)\n",
    "with open(path +'_train_div.pickle', 'wb') as handle:\n",
    "    pickle.dump(train_div, handle, protocol=pickle.HIGHEST_PROTOCOL)\n",
    "with open(path +'_test_div.pickle', 'wb') as handle:\n",
    "    pickle.dump(test_div, handle, protocol=pickle.HIGHEST_PROTOCOL)\n",
    "with open(path +'_Model.pickle', 'wb') as handle:\n",
    "    pickle.dump(model, handle, protocol=pickle.HIGHEST_PROTOCOL)\n",
    "with open(path +'_train_loader.pickle', 'wb') as handle:\n",
    "    pickle.dump(train_loader, handle, protocol=pickle.HIGHEST_PROTOCOL)\n",
    "with open(path +'_test_loader.pickle', 'wb') as handle:\n",
    "    pickle.dump(test_loader, handle, protocol=pickle.HIGHEST_PROTOCOL)"
   ]
  },
  {
   "cell_type": "markdown",
   "metadata": {},
   "source": [
    "## Reconstruct & Forecast"
   ]
  },
  {
   "cell_type": "code",
   "execution_count": 8,
   "metadata": {},
   "outputs": [],
   "source": [
    "path = 'Path to the Test Data'\n",
    "with open(path, 'rb') as handle:\n",
    "    test_resampled = pickle.load(handle)\n",
    "test_resampled = [test_resampled[idx].values for idx in range(len(test_resampled))]\n",
    "result =  [ model (torch.tensor (test_resampled[idx]).reshape(1,48,7)) for idx in range(len(test_resampled)) ]\n",
    "torch.manual_seed(seed)\n",
    "dist = [ torch.distributions.normal.Normal (torch.cat(result[idx][3][0]) , torch.cat(result[idx][3][1]).mul(0.5).exp_()) for idx in range(len(result))]\n",
    "recon_x = [ dist[idx].sample((10000,)).mean(0) for idx in range(len(dist)) ]"
   ]
  },
  {
   "cell_type": "markdown",
   "metadata": {},
   "source": [
    "## 2 Step Ahead"
   ]
  },
  {
   "cell_type": "code",
   "execution_count": 9,
   "metadata": {},
   "outputs": [
    {
     "name": "stdout",
     "output_type": "stream",
     "text": [
      "Average RMSE for Test Data is: 0.010474372875410854\n",
      "Variance of RMSE for Test Data is: 0.0022513985642498976\n"
     ]
    }
   ],
   "source": [
    "error = [ _rmse(test_resampled[idx][[43,44],:] , np.array(recon_x[idx][[43,44],:])) for idx in range(len(test_resampled)) ]\n",
    "print ('Average RMSE for Test Data is: '+str(np.mean(error)))\n",
    "print ('Variance of RMSE for Test Data is: '+str(np.std(error)))"
   ]
  },
  {
   "cell_type": "markdown",
   "metadata": {},
   "source": [
    "## 3 Step Ahead"
   ]
  },
  {
   "cell_type": "code",
   "execution_count": 10,
   "metadata": {},
   "outputs": [
    {
     "name": "stdout",
     "output_type": "stream",
     "text": [
      "Average RMSE for Test Data is: 0.010582644470156733\n",
      "Variance of RMSE for Test Data is: 0.0018947040143630237\n"
     ]
    }
   ],
   "source": [
    "error = [ _rmse(test_resampled[idx][[43,44,45],:] , np.array(recon_x[idx][[43,44,45],:])) for idx in range(len(test_resampled)) ]\n",
    "print ('Average RMSE for Test Data is: '+str(np.mean(error)))\n",
    "print ('Variance of RMSE for Test Data is: '+str(np.std(error)))"
   ]
  },
  {
   "cell_type": "markdown",
   "metadata": {},
   "source": [
    "## 4 Step Ahead"
   ]
  },
  {
   "cell_type": "code",
   "execution_count": 11,
   "metadata": {},
   "outputs": [
    {
     "name": "stdout",
     "output_type": "stream",
     "text": [
      "Average RMSE for Test Data is: 0.010623571358876904\n",
      "Variance of RMSE for Test Data is: 0.0017098150042917154\n"
     ]
    }
   ],
   "source": [
    "error = [ _rmse(test_resampled[idx][[43,44,45,46],:] , np.array(recon_x[idx][[43,44,45,46],:])) for idx in range(len(test_resampled)) ]\n",
    "print ('Average RMSE for Test Data is: '+str(np.mean(error)))\n",
    "print ('Variance of RMSE for Test Data is: '+str(np.std(error)))"
   ]
  },
  {
   "cell_type": "markdown",
   "metadata": {},
   "source": [
    "## 5 Step Ahead"
   ]
  },
  {
   "cell_type": "code",
   "execution_count": 12,
   "metadata": {},
   "outputs": [
    {
     "name": "stdout",
     "output_type": "stream",
     "text": [
      "Average RMSE for Test Data is: 0.010626502787039138\n",
      "Variance of RMSE for Test Data is: 0.0015616891535158877\n"
     ]
    }
   ],
   "source": [
    "error = [ _rmse(test_resampled[idx][[43,44,45,46,47],:] , np.array(recon_x[idx][[43,44,45,46,47],:])) for idx in range(len(test_resampled)) ]\n",
    "print ('Average RMSE for Test Data is: '+str(np.mean(error)))\n",
    "print ('Variance of RMSE for Test Data is: '+str(np.std(error)))"
   ]
  }
 ],
 "metadata": {
  "kernelspec": {
   "display_name": "Python 3",
   "language": "python",
   "name": "python3"
  },
  "language_info": {
   "codemirror_mode": {
    "name": "ipython",
    "version": 3
   },
   "file_extension": ".py",
   "mimetype": "text/x-python",
   "name": "python",
   "nbconvert_exporter": "python",
   "pygments_lexer": "ipython3",
   "version": "3.7.0"
  }
 },
 "nbformat": 4,
 "nbformat_minor": 2
}
