{
 "cells": [
  {
   "cell_type": "code",
   "execution_count": 1,
   "metadata": {},
   "outputs": [],
   "source": [
    "import numpy as np\n",
    "import math\n",
    "import os\n",
    "import pickle\n",
    "import pandas as pd\n",
    "import torch\n",
    "import torch.nn as nn\n",
    "import torch.utils\n",
    "import torch.utils.data\n",
    "from torchvision import datasets, transforms\n",
    "from torch.autograd import Variable\n",
    "import matplotlib.pyplot as plt\n",
    "\n",
    "def _rmse (x, x_hat):\n",
    "    x = x[:,1:]\n",
    "    x_hat = x_hat[:,1:]\n",
    "    return np.sqrt(np.mean(((x-x_hat)**2)))"
   ]
  },
  {
   "cell_type": "markdown",
   "metadata": {},
   "source": [
    "## Load Data Sets in Memory"
   ]
  },
  {
   "cell_type": "code",
   "execution_count": 2,
   "metadata": {},
   "outputs": [],
   "source": [
    "path = 'Path to the Data'\n",
    "with open(path+'train_resampled.pickle', 'rb') as handle:\n",
    "    train_resampled = pickle.load(handle)\n",
    "with open(path+'test_resampled.pickle', 'rb') as handle:\n",
    "    test_resampled = pickle.load(handle)\n",
    "with open(path+'dis_train.pickle', 'rb') as handle:\n",
    "    dis_train = pickle.load(handle)\n",
    "with open(path+'dis_test.pickle', 'rb') as handle:\n",
    "    dis_test = pickle.load(handle)\n",
    "with open(path+'Scalar.pickle', 'rb') as handle:\n",
    "    Scalar = pickle.load(handle)\n",
    "train_resampled = train_resampled[:13400]\n",
    "dis_train = dis_train[:13400]\n",
    "train_resampled = [train_resampled[idx][:-5].values[:,:25] for idx in range(len(train_resampled))]\n",
    "test_resampled = [test_resampled[idx].values[:-5][:,:25] for idx in range(len(test_resampled))]"
   ]
  },
  {
   "cell_type": "markdown",
   "metadata": {},
   "source": [
    "## Variational Recurrent Neural Network (VRNN-I-S)"
   ]
  },
  {
   "cell_type": "code",
   "execution_count": 3,
   "metadata": {},
   "outputs": [],
   "source": [
    "class VRNN(nn.Module):\n",
    "    \n",
    "    def __init__(self, x_dim, h_dim, z_dim, n_layers, bias = True ):\n",
    "        \n",
    "        super(VRNN, self).__init__()\n",
    "\n",
    "        self.x_dim = x_dim\n",
    "        self.h_dim = h_dim\n",
    "        self.z_dim = z_dim\n",
    "        self.n_layers = n_layers\n",
    "\n",
    "        #feature-extracting transformations\n",
    "        self.phi_x = nn.Sequential( nn.Linear(self.x_dim , self.h_dim), nn.Tanh(), \n",
    "                                   nn.Linear(self.h_dim, self.h_dim), nn.Tanh())\n",
    "        self.phi_z = nn.Sequential( nn.Linear(self.z_dim, self.h_dim), nn.Tanh())\n",
    "\n",
    "        #encoder\n",
    "        self.enc = nn.Sequential( nn.Linear(self.h_dim + self.h_dim * self.n_layers , \n",
    "                                            self.h_dim), nn.Tanh(), nn.Linear(self.h_dim, self.h_dim), nn.Tanh())\n",
    "        \n",
    "        self.enc_mean = nn.Sequential( nn.Linear(self.h_dim, self.z_dim), nn.Tanh())\n",
    "        self.enc_std = nn.Sequential( nn.Linear(self.h_dim, self.z_dim), nn.Sigmoid())\n",
    "\n",
    "        \n",
    "        #decoder\n",
    "        self.dec = nn.Sequential( nn.Linear(self.h_dim + self.h_dim * self.n_layers , self.h_dim), nn.Tanh(), \n",
    "                                 nn.Linear(self.h_dim, self.h_dim), nn.Tanh())\n",
    "        self.dec_std = nn.Sequential( nn.Linear(self.h_dim, self.x_dim), nn.Sigmoid())\n",
    "        #self.dec_mean = nn.Linear(h_dim, x_dim)\n",
    "        self.dec_mean = nn.Sequential( nn.Linear( self.h_dim, self.x_dim ), nn.Tanh())\n",
    "\n",
    "        #recurrence\n",
    "        self.rnn = nn.GRU ( self.h_dim + self.h_dim + self.n_layers * self.h_dim, self.h_dim, \n",
    "                           self.n_layers, bias , batch_first = True )\n",
    "        \n",
    "    def encode (self, phi_x_t , h):\n",
    "        phi_x_t = self._concatenate (phi_x_t , h)\n",
    "        enc_t = self.enc(phi_x_t)\n",
    "        enc_mean_t = self.enc_mean(enc_t)\n",
    "        enc_std_t = self.enc_std(enc_t)\n",
    "        return enc_mean_t , enc_std_t\n",
    "        \n",
    "    \n",
    "    def decode (self, phi_z_t , h):\n",
    "        phi_z_t = self._concatenate (phi_z_t , h)\n",
    "        dec_t = self.dec(phi_z_t)\n",
    "        dec_mean_t = self.dec_mean(dec_t)\n",
    "        dec_std_t = self.dec_std(dec_t)\n",
    "        return dec_mean_t , dec_std_t\n",
    "        \n",
    "    def forward(self, x):\n",
    "        all_enc_mean, all_enc_std = [], []\n",
    "        all_dec_mean, all_dec_std = [], []\n",
    "        kld_loss = 0\n",
    "        nll_loss = 0\n",
    "\n",
    "        h = Variable(torch.zeros(self.n_layers, x.size(0), self.h_dim))\n",
    "        \n",
    "        for t in range(x.size(1)):\n",
    "            \n",
    "            phi_x_t = self.phi_x(x[:,t,:].float())\n",
    "            #encoder\n",
    "            enc_mean_t , enc_std_t = self.encode(phi_x_t , h)\n",
    "            #sampling and reparameterization\n",
    "            z_t = self._reparameterized_sample(enc_mean_t, enc_std_t)\n",
    "            phi_z_t = self.phi_z(z_t)\n",
    "            #decoder\n",
    "            dec_mean_t , dec_std_t = self.decode(phi_z_t , h)\n",
    "            \n",
    "            #recurrence\n",
    "            temp = self._concatenate ( torch.cat ( [ phi_x_t , phi_z_t ] , 1) , h )\n",
    "            _, h = self.rnn(temp.reshape(temp.shape[0] , 1 , temp.shape[1]))\n",
    "\n",
    "            #computing losses enc_std_t.mul(0.5).exp_()\n",
    "            #kld_loss += self._kld_gauss(enc_mean_t, enc_std_t, prior_mean_t, prior_std_t)\n",
    "            kld_loss += self._kld_gauss(enc_mean_t, enc_std_t)\n",
    "            nll_loss += self._nll_gauss(dec_mean_t, dec_std_t, x[:,t,:])\n",
    "                \n",
    "            all_enc_std.append(enc_std_t)\n",
    "            all_enc_mean.append(enc_mean_t)\n",
    "            all_dec_mean.append(dec_mean_t)\n",
    "            all_dec_std.append(dec_std_t)\n",
    "\n",
    "\n",
    "        return kld_loss, nll_loss,(all_enc_mean, all_enc_std),(all_dec_mean, all_dec_std)\n",
    "    \n",
    "    def _reparameterized_sample(self, mean, logvar):\n",
    "        \"\"\"using std to sample\"\"\"\n",
    "        std = logvar.mul(0.5).exp_()\n",
    "        eps = torch.FloatTensor(std.size()).normal_()\n",
    "        eps = Variable(eps)\n",
    "        return eps.mul(std).add_(mean)\n",
    "\n",
    "\n",
    "    def _kld_gauss(self, mu, logvar):\n",
    "        \"\"\"Using std to compute KLD\"\"\"\n",
    "        return -0.5 * torch.sum(1 + logvar - mu.pow(2) - logvar.exp())\n",
    "        \n",
    "    def _nll_gauss(self, mean, logvar , x):\n",
    "        #logvar = torch.log(logvar **2 )\n",
    "        return torch.sum( 0.5 * np.log (2 * np.pi) + 0.5 * logvar + (x-mean)**2 / (2 *  torch.exp(logvar)) )\n",
    "    \n",
    "    def _concatenate (self , a , b) :\n",
    "        for i in range(len(b)):\n",
    "            a = torch.cat([a , b[i]] , 1)\n",
    "        return a"
   ]
  },
  {
   "cell_type": "markdown",
   "metadata": {},
   "source": [
    "## Configure the Hyper-Parameters and Model"
   ]
  },
  {
   "cell_type": "code",
   "execution_count": 4,
   "metadata": {},
   "outputs": [],
   "source": [
    "#hyperparameters\n",
    "x_dim = 25\n",
    "h_dim = 50\n",
    "z_dim = 2\n",
    "n_layers =  2\n",
    "n_epochs = 5\n",
    "clip = 10\n",
    "learning_rate = 1e-3\n",
    "batch_size = 100\n",
    "seed = 100\n",
    "print_every = 10\n",
    "save_every = 10\n",
    "#manual seed\n",
    "torch.manual_seed(seed)\n",
    "#init model + optimizer + datasets\n",
    "train_loader = torch.utils.data.DataLoader ( dataset = train_resampled ,  batch_size = 100 , shuffle= True)\n",
    "test_loader = torch.utils.data.DataLoader (  dataset = test_resampled , shuffle= True)\n",
    "model = VRNN(x_dim, h_dim, z_dim, n_layers)\n",
    "optimizer = torch.optim.Adam(model.parameters(), lr=learning_rate)"
   ]
  },
  {
   "cell_type": "markdown",
   "metadata": {},
   "source": [
    "## Train and Test the Model"
   ]
  },
  {
   "cell_type": "code",
   "execution_count": 5,
   "metadata": {},
   "outputs": [],
   "source": [
    "def train(epoch):\n",
    "    train_loss = 0\n",
    "    epoch_loss = np.zeros(int(len (train_resampled) / batch_size ))\n",
    "    epoch_div = np.zeros(int(len (train_resampled) / batch_size))\n",
    "    for batch_idx, (data) in enumerate(train_loader):\n",
    "        \n",
    "        data = Variable(data)\n",
    "        #forward + backward + optimize\n",
    "        optimizer.zero_grad()\n",
    "        kld_loss, nll_loss, _, _ = model(data)\n",
    "        epoch_loss [batch_idx] = nll_loss\n",
    "        epoch_div [batch_idx] = kld_loss\n",
    "        loss = kld_loss + nll_loss\n",
    "        loss.backward()\n",
    "        nn.utils.clip_grad_norm_(model.parameters(), clip)\n",
    "        optimizer.step()\n",
    "        #printing\n",
    "        if batch_idx % print_every == 0:\n",
    "            print('Train Epoch: {} [{}/{} ({:.0f}%)]\\t KLD Loss: {:.6f} \\t NLL Loss: {:.6f}'.format(\n",
    "                epoch, batch_idx * len(data), len(train_loader.dataset),\n",
    "                100. * batch_idx / len(train_loader),\n",
    "                kld_loss.data / batch_size,\n",
    "                nll_loss.data / batch_size))\n",
    "\n",
    "            \n",
    "\n",
    "        train_loss += loss.data\n",
    "    print('====> Epoch: {} Average loss: {:.4f}'.format(\n",
    "        epoch, train_loss / len(train_loader.dataset)))\n",
    "    return epoch_loss, epoch_div\n",
    "    \n",
    "def test(epoch):\n",
    "    \"\"\"uses test data to evaluate \n",
    "    likelihood of the model\"\"\"\n",
    "    mean_kld_loss, mean_nll_loss = 0, 0\n",
    "    epoch_loss = np.zeros(len(test_resampled))\n",
    "    epoch_div = np.zeros(len(test_resampled))\n",
    "    for i, (data) in enumerate(test_loader):                                           \n",
    "        \n",
    "        data = Variable(data.reshape(1,43,25))\n",
    "        kld_loss, nll_loss, _, _ = model(data)\n",
    "        epoch_div [i] = kld_loss\n",
    "        epoch_loss [i] = nll_loss\n",
    "        mean_kld_loss += kld_loss.data\n",
    "        mean_nll_loss += nll_loss.data\n",
    "\n",
    "    mean_kld_loss /= len(test_loader.dataset)\n",
    "    mean_nll_loss /= len(test_loader.dataset)\n",
    "\n",
    "    print('====> Test set loss: KLD Loss = {:.4f}, NLL Loss = {:.4f} '.format(\n",
    "        mean_kld_loss, mean_nll_loss))\n",
    "    return epoch_loss, epoch_div"
   ]
  },
  {
   "cell_type": "markdown",
   "metadata": {},
   "source": [
    "## Run the Training and Validation/Testing"
   ]
  },
  {
   "cell_type": "code",
   "execution_count": 6,
   "metadata": {},
   "outputs": [
    {
     "name": "stdout",
     "output_type": "stream",
     "text": [
      "Train Epoch: 1 [0/13400 (0%)]\t KLD Loss: 6.652778 \t NLL Loss: 1558.382360\n",
      "Train Epoch: 1 [1000/13400 (7%)]\t KLD Loss: 2.523342 \t NLL Loss: 1395.426763\n",
      "Train Epoch: 1 [2000/13400 (15%)]\t KLD Loss: 0.435187 \t NLL Loss: 1218.534388\n",
      "Train Epoch: 1 [3000/13400 (22%)]\t KLD Loss: 0.149161 \t NLL Loss: 1123.477252\n",
      "Train Epoch: 1 [4000/13400 (30%)]\t KLD Loss: 0.123197 \t NLL Loss: 1066.015972\n",
      "Train Epoch: 1 [5000/13400 (37%)]\t KLD Loss: 0.073748 \t NLL Loss: 1032.895528\n",
      "Train Epoch: 1 [6000/13400 (45%)]\t KLD Loss: 0.034559 \t NLL Loss: 1014.882978\n",
      "Train Epoch: 1 [7000/13400 (52%)]\t KLD Loss: 0.016744 \t NLL Loss: 1005.231392\n",
      "Train Epoch: 1 [8000/13400 (60%)]\t KLD Loss: 0.008583 \t NLL Loss: 1000.026358\n",
      "Train Epoch: 1 [9000/13400 (67%)]\t KLD Loss: 0.006042 \t NLL Loss: 997.282624\n",
      "Train Epoch: 1 [10000/13400 (75%)]\t KLD Loss: 0.003014 \t NLL Loss: 995.808587\n",
      "Train Epoch: 1 [11000/13400 (82%)]\t KLD Loss: 0.004292 \t NLL Loss: 994.982789\n",
      "Train Epoch: 1 [12000/13400 (90%)]\t KLD Loss: 0.001536 \t NLL Loss: 994.476617\n",
      "Train Epoch: 1 [13000/13400 (97%)]\t KLD Loss: 0.001661 \t NLL Loss: 994.126620\n",
      "====> Epoch: 1 Average loss: 1085.0524\n",
      "====> Test set loss: KLD Loss = 0.0023, NLL Loss = 994.0395 \n",
      "Train Epoch: 2 [0/13400 (0%)]\t KLD Loss: 0.002276 \t NLL Loss: 994.037244\n",
      "Train Epoch: 2 [1000/13400 (7%)]\t KLD Loss: 0.001959 \t NLL Loss: 993.872858\n",
      "Train Epoch: 2 [2000/13400 (15%)]\t KLD Loss: 0.000590 \t NLL Loss: 993.740279\n",
      "Train Epoch: 2 [3000/13400 (22%)]\t KLD Loss: 0.000731 \t NLL Loss: 992.096218\n",
      "Train Epoch: 2 [4000/13400 (30%)]\t KLD Loss: 0.003567 \t NLL Loss: 994.199102\n",
      "Train Epoch: 2 [5000/13400 (37%)]\t KLD Loss: 0.007077 \t NLL Loss: 993.294248\n",
      "Train Epoch: 2 [6000/13400 (45%)]\t KLD Loss: 0.008623 \t NLL Loss: 991.194843\n",
      "Train Epoch: 2 [7000/13400 (52%)]\t KLD Loss: 0.009663 \t NLL Loss: 989.145272\n",
      "Train Epoch: 2 [8000/13400 (60%)]\t KLD Loss: 0.003611 \t NLL Loss: 989.669989\n",
      "Train Epoch: 2 [9000/13400 (67%)]\t KLD Loss: 0.024307 \t NLL Loss: 989.338541\n",
      "Train Epoch: 2 [10000/13400 (75%)]\t KLD Loss: 0.004859 \t NLL Loss: 988.796275\n",
      "Train Epoch: 2 [11000/13400 (82%)]\t KLD Loss: 0.005543 \t NLL Loss: 988.573193\n",
      "Train Epoch: 2 [12000/13400 (90%)]\t KLD Loss: 0.002527 \t NLL Loss: 988.452436\n",
      "Train Epoch: 2 [13000/13400 (97%)]\t KLD Loss: 0.001275 \t NLL Loss: 988.685485\n",
      "====> Epoch: 2 Average loss: 990.7357\n",
      "====> Test set loss: KLD Loss = 0.0062, NLL Loss = 989.1383 \n",
      "Train Epoch: 3 [0/13400 (0%)]\t KLD Loss: 0.006182 \t NLL Loss: 989.121593\n",
      "Train Epoch: 3 [1000/13400 (7%)]\t KLD Loss: 0.000942 \t NLL Loss: 988.582636\n",
      "Train Epoch: 3 [2000/13400 (15%)]\t KLD Loss: 0.007741 \t NLL Loss: 988.342900\n",
      "Train Epoch: 3 [3000/13400 (22%)]\t KLD Loss: 0.002648 \t NLL Loss: 988.334127\n",
      "Train Epoch: 3 [4000/13400 (30%)]\t KLD Loss: 0.000446 \t NLL Loss: 988.307243\n",
      "Train Epoch: 3 [5000/13400 (37%)]\t KLD Loss: 0.002005 \t NLL Loss: 988.259076\n",
      "Train Epoch: 3 [6000/13400 (45%)]\t KLD Loss: 0.000262 \t NLL Loss: 988.308380\n",
      "Train Epoch: 3 [7000/13400 (52%)]\t KLD Loss: 0.000295 \t NLL Loss: 988.304489\n",
      "Train Epoch: 3 [8000/13400 (60%)]\t KLD Loss: 0.000431 \t NLL Loss: 988.216333\n",
      "Train Epoch: 3 [9000/13400 (67%)]\t KLD Loss: 0.000282 \t NLL Loss: 988.255620\n",
      "Train Epoch: 3 [10000/13400 (75%)]\t KLD Loss: 0.000424 \t NLL Loss: 988.234726\n",
      "Train Epoch: 3 [11000/13400 (82%)]\t KLD Loss: 0.004880 \t NLL Loss: 988.177805\n",
      "Train Epoch: 3 [12000/13400 (90%)]\t KLD Loss: 0.001032 \t NLL Loss: 988.191521\n",
      "Train Epoch: 3 [13000/13400 (97%)]\t KLD Loss: 0.000242 \t NLL Loss: 988.197919\n",
      "====> Epoch: 3 Average loss: 988.3219\n",
      "====> Test set loss: KLD Loss = 0.0009, NLL Loss = 988.1624 \n",
      "Train Epoch: 4 [0/13400 (0%)]\t KLD Loss: 0.000893 \t NLL Loss: 988.177783\n",
      "Train Epoch: 4 [1000/13400 (7%)]\t KLD Loss: 0.000215 \t NLL Loss: 988.175464\n",
      "Train Epoch: 4 [2000/13400 (15%)]\t KLD Loss: 0.000692 \t NLL Loss: 988.153515\n",
      "Train Epoch: 4 [3000/13400 (22%)]\t KLD Loss: 0.005539 \t NLL Loss: 988.131440\n",
      "Train Epoch: 4 [4000/13400 (30%)]\t KLD Loss: 0.000435 \t NLL Loss: 988.127849\n",
      "Train Epoch: 4 [5000/13400 (37%)]\t KLD Loss: 0.003247 \t NLL Loss: 988.167257\n",
      "Train Epoch: 4 [6000/13400 (45%)]\t KLD Loss: 0.012324 \t NLL Loss: 988.076737\n",
      "Train Epoch: 4 [7000/13400 (52%)]\t KLD Loss: 0.000175 \t NLL Loss: 988.089535\n",
      "Train Epoch: 4 [8000/13400 (60%)]\t KLD Loss: 0.000601 \t NLL Loss: 988.059182\n",
      "Train Epoch: 4 [9000/13400 (67%)]\t KLD Loss: 0.001245 \t NLL Loss: 988.060633\n",
      "Train Epoch: 4 [10000/13400 (75%)]\t KLD Loss: 0.000406 \t NLL Loss: 988.047573\n",
      "Train Epoch: 4 [11000/13400 (82%)]\t KLD Loss: 0.001145 \t NLL Loss: 988.031237\n",
      "Train Epoch: 4 [12000/13400 (90%)]\t KLD Loss: 0.000446 \t NLL Loss: 988.029122\n",
      "Train Epoch: 4 [13000/13400 (97%)]\t KLD Loss: 0.000134 \t NLL Loss: 988.011303\n",
      "====> Epoch: 4 Average loss: 988.0970\n",
      "====> Test set loss: KLD Loss = 0.0003, NLL Loss = 988.0122 \n",
      "Train Epoch: 5 [0/13400 (0%)]\t KLD Loss: 0.000346 \t NLL Loss: 988.006703\n",
      "Train Epoch: 5 [1000/13400 (7%)]\t KLD Loss: 0.000172 \t NLL Loss: 988.007388\n",
      "Train Epoch: 5 [2000/13400 (15%)]\t KLD Loss: 0.000166 \t NLL Loss: 988.003537\n",
      "Train Epoch: 5 [3000/13400 (22%)]\t KLD Loss: 0.000187 \t NLL Loss: 988.026493\n",
      "Train Epoch: 5 [4000/13400 (30%)]\t KLD Loss: 0.000609 \t NLL Loss: 988.007109\n",
      "Train Epoch: 5 [5000/13400 (37%)]\t KLD Loss: 0.000254 \t NLL Loss: 987.993892\n",
      "Train Epoch: 5 [6000/13400 (45%)]\t KLD Loss: 0.000246 \t NLL Loss: 987.978377\n",
      "Train Epoch: 5 [7000/13400 (52%)]\t KLD Loss: 0.000098 \t NLL Loss: 987.989684\n",
      "Train Epoch: 5 [8000/13400 (60%)]\t KLD Loss: 0.000099 \t NLL Loss: 987.968647\n",
      "Train Epoch: 5 [9000/13400 (67%)]\t KLD Loss: 0.000362 \t NLL Loss: 988.009683\n",
      "Train Epoch: 5 [10000/13400 (75%)]\t KLD Loss: 0.000126 \t NLL Loss: 987.980211\n",
      "Train Epoch: 5 [11000/13400 (82%)]\t KLD Loss: 0.000395 \t NLL Loss: 988.003837\n",
      "Train Epoch: 5 [12000/13400 (90%)]\t KLD Loss: 0.005458 \t NLL Loss: 987.976018\n",
      "Train Epoch: 5 [13000/13400 (97%)]\t KLD Loss: 0.000803 \t NLL Loss: 987.959183\n",
      "====> Epoch: 5 Average loss: 987.9895\n",
      "====> Test set loss: KLD Loss = 0.0005, NLL Loss = 987.9641 \n"
     ]
    }
   ],
   "source": [
    "train_error = np.zeros([n_epochs , int(len (train_resampled) / batch_size ) ])\n",
    "train_div = np.zeros([n_epochs , int(len (train_resampled) / batch_size ) ])\n",
    "test_error , test_div  = np.zeros([n_epochs , len(test_resampled)]) , np.zeros([n_epochs , len(test_resampled)]) \n",
    "for epoch in range(1, n_epochs + 1):\n",
    "    tr = train(epoch)\n",
    "    train_error [epoch-1 , :] = tr [0]\n",
    "    train_div [epoch-1 , :] = tr [1] \n",
    "    te = test(epoch)\n",
    "    test_error [epoch-1 , :] = te [0]\n",
    "    test_div [epoch-1 , :] = te [1]"
   ]
  },
  {
   "cell_type": "markdown",
   "metadata": {},
   "source": [
    "## Save the Training Data, Model, Error"
   ]
  },
  {
   "cell_type": "code",
   "execution_count": 7,
   "metadata": {},
   "outputs": [],
   "source": [
    "with open(path +'P_C_train_error.pickle', 'wb') as handle:\n",
    "    pickle.dump(train_error, handle, protocol=pickle.HIGHEST_PROTOCOL)\n",
    "with open(path +'P_C_test_error.pickle', 'wb') as handle:\n",
    "    pickle.dump(test_error, handle, protocol=pickle.HIGHEST_PROTOCOL)\n",
    "with open(path +'P_C_train_div.pickle', 'wb') as handle:\n",
    "    pickle.dump(train_div, handle, protocol=pickle.HIGHEST_PROTOCOL)\n",
    "with open(path +'P_C_test_div.pickle', 'wb') as handle:\n",
    "    pickle.dump(test_div, handle, protocol=pickle.HIGHEST_PROTOCOL)\n",
    "with open(path +'P_C_Model.pickle', 'wb') as handle:\n",
    "    pickle.dump(model, handle, protocol=pickle.HIGHEST_PROTOCOL)\n",
    "with open(path +'P_C_train_loader.pickle', 'wb') as handle:\n",
    "    pickle.dump(train_loader, handle, protocol=pickle.HIGHEST_PROTOCOL)\n",
    "with open(path +'P_C_test_loader.pickle', 'wb') as handle:\n",
    "    pickle.dump(test_loader, handle, protocol=pickle.HIGHEST_PROTOCOL)"
   ]
  },
  {
   "cell_type": "markdown",
   "metadata": {},
   "source": [
    "## Reconstruct & Forecast"
   ]
  },
  {
   "cell_type": "code",
   "execution_count": 8,
   "metadata": {},
   "outputs": [],
   "source": [
    "path = 'Path to the Test Data'\n",
    "with open(path, 'rb') as handle:\n",
    "    test_resampled = pickle.load(handle)\n",
    "test_resampled = [test_resampled[idx].values for idx in range(len(test_resampled))]\n",
    "result =  [ model (torch.tensor (test_resampled[idx]).reshape(1,48,25)) for idx in range(len(test_resampled)) ]\n",
    "torch.manual_seed(seed)\n",
    "dist = [ torch.distributions.normal.Normal (torch.cat(result[idx][3][0])[:,:7] , torch.cat(result[idx][3][1])[:,:7].mul(0.5).exp_()) for idx in range(len(result))]\n",
    "recon_x = [ dist[idx].sample((10000,)).mean(0) for idx in range(len(dist)) ]"
   ]
  },
  {
   "cell_type": "markdown",
   "metadata": {},
   "source": [
    "## 2 Step Ahead"
   ]
  },
  {
   "cell_type": "code",
   "execution_count": 9,
   "metadata": {},
   "outputs": [
    {
     "name": "stdout",
     "output_type": "stream",
     "text": [
      "Average RMSE for Test Data is: 0.01039492093008711\n",
      "Variance of RMSE for Test Data is: 0.00220342539569323\n"
     ]
    }
   ],
   "source": [
    "error = [ _rmse(test_resampled[idx][:,:7][[43,44],:] , np.array(recon_x[idx][[43,44],:])) for idx in range(len(test_resampled)) ]\n",
    "error = pd.DataFrame (error)\n",
    "error = error.mean(axis = 1)\n",
    "print ('Average RMSE for Test Data is: '+str(error.mean()))\n",
    "print ('Variance of RMSE for Test Data is: '+str(error.std()))"
   ]
  },
  {
   "cell_type": "markdown",
   "metadata": {},
   "source": [
    "## 3 Step Ahead"
   ]
  },
  {
   "cell_type": "code",
   "execution_count": 10,
   "metadata": {},
   "outputs": [
    {
     "name": "stdout",
     "output_type": "stream",
     "text": [
      "Average RMSE for Test Data is: 0.010502682860307505\n",
      "Variance of RMSE for Test Data is: 0.001850346279991146\n"
     ]
    }
   ],
   "source": [
    "error = [ _rmse(test_resampled[idx][:,:7][[43,44,45],:] , np.array(recon_x[idx][[43,44,45],:])) for idx in range(len(test_resampled)) ]\n",
    "error = pd.DataFrame (error)\n",
    "error = error.mean(axis = 1)\n",
    "print ('Average RMSE for Test Data is: '+str(error.mean()))\n",
    "print ('Variance of RMSE for Test Data is: '+str(error.std()))"
   ]
  },
  {
   "cell_type": "markdown",
   "metadata": {},
   "source": [
    "## 4 Step Ahead"
   ]
  },
  {
   "cell_type": "code",
   "execution_count": 11,
   "metadata": {},
   "outputs": [
    {
     "name": "stdout",
     "output_type": "stream",
     "text": [
      "Average RMSE for Test Data is: 0.010544367020041795\n",
      "Variance of RMSE for Test Data is: 0.0016595806324360854\n"
     ]
    }
   ],
   "source": [
    "error = [ _rmse(test_resampled[idx][:,:7][[43,44,45,46],:] , np.array(recon_x[idx][[43,44,45,46],:])) for idx in range(len(test_resampled)) ]\n",
    "error = pd.DataFrame (error)\n",
    "error = error.mean(axis = 1)\n",
    "print ('Average RMSE for Test Data is: '+str(error.mean()))\n",
    "print ('Variance of RMSE for Test Data is: '+str(error.std()))"
   ]
  },
  {
   "cell_type": "markdown",
   "metadata": {},
   "source": [
    "## 5 Step Ahead"
   ]
  },
  {
   "cell_type": "code",
   "execution_count": 12,
   "metadata": {},
   "outputs": [
    {
     "name": "stdout",
     "output_type": "stream",
     "text": [
      "Average RMSE for Test Data is: 0.01055034265351271\n",
      "Variance of RMSE for Test Data is: 0.0015112945259311134\n"
     ]
    }
   ],
   "source": [
    "error = [ _rmse(test_resampled[idx][:,:7][[43,44,45,46,47],:] , np.array(recon_x[idx][[43,44,45,46,47],:])) for idx in range(len(test_resampled)) ]\n",
    "error = pd.DataFrame (error)\n",
    "error = error.mean(axis = 1)\n",
    "print ('Average RMSE for Test Data is: '+str(error.mean()))\n",
    "print ('Variance of RMSE for Test Data is: '+str(error.std()))"
   ]
  }
 ],
 "metadata": {
  "kernelspec": {
   "display_name": "Python 3",
   "language": "python",
   "name": "python3"
  },
  "language_info": {
   "codemirror_mode": {
    "name": "ipython",
    "version": 3
   },
   "file_extension": ".py",
   "mimetype": "text/x-python",
   "name": "python",
   "nbconvert_exporter": "python",
   "pygments_lexer": "ipython3",
   "version": "3.7.0"
  }
 },
 "nbformat": 4,
 "nbformat_minor": 2
}
