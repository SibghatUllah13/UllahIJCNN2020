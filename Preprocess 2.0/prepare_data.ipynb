{
 "cells": [
  {
   "cell_type": "code",
   "execution_count": 1,
   "metadata": {},
   "outputs": [],
   "source": [
    "from __future__ import print_function\n",
    "import argparse\n",
    "import torch\n",
    "from sklearn.preprocessing import MinMaxScaler\n",
    "from sklearn.preprocessing import StandardScaler\n",
    "import torch.utils.data\n",
    "from torch import nn, optim\n",
    "from torch.nn import functional as F\n",
    "from torchvision import datasets, transforms\n",
    "from torchvision.utils import save_image\n",
    "import numpy as np\n",
    "import pandas as pd\n",
    "import os\n",
    "import pickle\n",
    "from sklearn import preprocessing\n",
    "from scipy import stats\n",
    "from sklearn.metrics.pairwise import cosine_similarity"
   ]
  },
  {
   "cell_type": "markdown",
   "metadata": {},
   "source": [
    "## Read the Data Sets"
   ]
  },
  {
   "cell_type": "code",
   "execution_count": 2,
   "metadata": {},
   "outputs": [],
   "source": [
    "path = 'Path to the Resampled Time Series'\n",
    "with open(path + 'final_train_ihm.pickle', 'rb') as handle:\n",
    "    train = pickle.load(handle)\n",
    "with open(path +'final_test_ihm.pickle', 'rb') as handle:\n",
    "    test = pickle.load(handle)\n",
    "train_lab = np.array(pd.read_csv(path + 'Data\\\\train\\\\listfile.csv').iloc[:,1])\n",
    "test_lab = np.array(pd.read_csv(path + 'Data\\\\test\\\\listfile.csv').iloc[:,1])\n",
    "dis_train = pd.read_csv(path+'Data\\\\disease_diagnostics_train.csv',index_col=0)\n",
    "dis_test = pd.read_csv(path+'Data\\\\disease_diagnostics_test.csv',index_col=0)\n",
    "dis_train = np.array(dis_train.sum(axis = 1))\n",
    "dis_test = np.array(dis_test.sum(axis = 1))"
   ]
  },
  {
   "cell_type": "markdown",
   "metadata": {},
   "source": [
    "## Filter the Train and Test Data Set so new Data Set have at max 10 % missing Values"
   ]
  },
  {
   "cell_type": "code",
   "execution_count": 3,
   "metadata": {},
   "outputs": [],
   "source": [
    "missing = pd.DataFrame ([train [idx][2].sum() for idx in range(len(train)) ])\n",
    "temp = missing.sum (axis = 1)\n",
    "Indices = list(temp[temp<=33].index)\n",
    "tr_indices = Indices\n",
    "train = [train [idx] for idx in Indices]\n",
    "train_lab = train_lab[Indices]\n",
    "dis_train = dis_train[Indices]\n",
    "missing = pd.DataFrame ([test [idx][2].sum() for idx in range(len(test)) ])\n",
    "temp = missing.sum (axis = 1)\n",
    "Indices = list(temp[temp<=31].index)\n",
    "te_indices = Indices\n",
    "test = [test [idx] for idx in Indices]\n",
    "test_lab = test_lab[Indices]\n",
    "dis_test = dis_test[Indices]"
   ]
  },
  {
   "cell_type": "markdown",
   "metadata": {},
   "source": [
    "## Fill the Missing Values by Mean"
   ]
  },
  {
   "cell_type": "code",
   "execution_count": 4,
   "metadata": {},
   "outputs": [
    {
     "name": "stdout",
     "output_type": "stream",
     "text": [
      "0 0\n"
     ]
    }
   ],
   "source": [
    "missing = pd.DataFrame([ train [idx][2].sum() for idx in range(len(train)) ])\n",
    "missing = [ np.where(missing.iloc[:,column] != 0 ) [0] for column in range(1,len(missing.columns)) ]\n",
    "train_resampled = [train[idx][1].fillna(train[idx][1].mean()) for idx in range(len(train)) ]\n",
    "test_resampled = [test[idx][1].fillna(test[idx][1].mean()) for idx in range(len(test)) ]\n",
    "m_train = np.sum(np.array([train_resampled[idx].isna().sum().sum() for idx in range(len(train_resampled)) ]))\n",
    "m_test = np.sum(np.array([test_resampled[idx].isna().sum().sum() for idx in range(len(test_resampled)) ]))\n",
    "print (m_train , m_test)"
   ]
  },
  {
   "cell_type": "markdown",
   "metadata": {},
   "source": [
    "## Standardize the Data"
   ]
  },
  {
   "cell_type": "code",
   "execution_count": 5,
   "metadata": {},
   "outputs": [],
   "source": [
    "cols = train_resampled[0].columns\n",
    "scalar = MinMaxScaler((-1,1)).fit(pd.concat(train_resampled))\n",
    "train_resampled = [ pd.DataFrame(scalar.transform (train_resampled[idx])) for idx in range(len(train_resampled)) ]\n",
    "test_resampled = [ pd.DataFrame(scalar.transform (test_resampled[idx])) for idx in range(len(test_resampled)) ]\n",
    "for df in train_resampled:\n",
    "    df.columns = cols\n",
    "for df in test_resampled:\n",
    "    df.columns = cols"
   ]
  },
  {
   "cell_type": "code",
   "execution_count": 6,
   "metadata": {},
   "outputs": [],
   "source": [
    "path = 'Path to the Resampled Time Series'\n",
    "with open(path + 'final_train_ihm.pickle', 'rb') as handle:\n",
    "    train = pickle.load(handle)\n",
    "with open(path +'final_test_ihm.pickle', 'rb') as handle:\n",
    "    test = pickle.load(handle)\n",
    "train_lab = np.array(pd.read_csv(path[:-17] + 'Data\\\\train\\\\listfile.csv').iloc[:,1])\n",
    "test_lab = np.array(pd.read_csv(path[:-17] + 'Data\\\\test\\\\listfile.csv').iloc[:,1])\n",
    "dis_train = pd.read_csv(path[:-17]+'Data\\\\disease_diagnostics_train.csv',index_col=0)\n",
    "dis_test = pd.read_csv(path[:-17]+'Data\\\\disease_diagnostics_test.csv',index_col=0)\n",
    "dis_train = dis_train.iloc[tr_indices, :]\n",
    "dis_test = dis_test.iloc[te_indices, :]"
   ]
  },
  {
   "cell_type": "code",
   "execution_count": 16,
   "metadata": {},
   "outputs": [],
   "source": [
    "sim_tr = cosine_similarity(dis_train)\n",
    "for i in range(len(sim_tr)):\n",
    "    for j in range (sim_tr.shape[1]):\n",
    "        if i==j:\n",
    "            sim_tr [i,j] = 0\n",
    "sim_tr =  np.triu (sim_tr)\n",
    "sim_te = cosine_similarity(dis_test)\n",
    "for i in range(len(sim_te)):\n",
    "    for j in range (sim_te.shape[1]):\n",
    "        if i==j:\n",
    "            sim_te [i,j] = 0\n",
    "sim_te =  np.triu (sim_te)\n",
    "sim_tr = [ sim_tr[idx].argsort()[-5:][::-1] for idx in range(len(sim_tr)) ]\n",
    "sim_te = [ sim_te[idx].argsort()[-5:][::-1] for idx in range(len(sim_te)) ]\n",
    "train_resampled = [ _concatenate (idx , train_resampled , sim_tr) for idx in range(len(sim_tr)) ]\n",
    "test_resampled = [ _concatenate (idx , test_resampled , sim_te) for idx in range(len(sim_te)) ]"
   ]
  },
  {
   "cell_type": "markdown",
   "metadata": {},
   "source": [
    "## Save the Files into Pickle Files"
   ]
  },
  {
   "cell_type": "code",
   "execution_count": 20,
   "metadata": {},
   "outputs": [],
   "source": [
    "with open('train_resampled.pickle', 'wb') as handle:\n",
    "    pickle.dump(train_resampled, handle, protocol=pickle.HIGHEST_PROTOCOL)\n",
    "with open('test_resampled.pickle', 'wb') as handle:\n",
    "    pickle.dump(test_resampled, handle, protocol=pickle.HIGHEST_PROTOCOL)\n",
    "with open('train_lab.pickle', 'wb') as handle:\n",
    "    pickle.dump(train_lab, handle, protocol=pickle.HIGHEST_PROTOCOL)\n",
    "with open('test_lab.pickle', 'wb') as handle:\n",
    "    pickle.dump(test_lab, handle, protocol=pickle.HIGHEST_PROTOCOL)\n",
    "with open('dis_train.pickle', 'wb') as handle:\n",
    "    pickle.dump(dis_train, handle, protocol=pickle.HIGHEST_PROTOCOL)\n",
    "with open('dis_test.pickle', 'wb') as handle:\n",
    "    pickle.dump(dis_test, handle, protocol=pickle.HIGHEST_PROTOCOL)\n",
    "with open('Scalar.pickle', 'wb') as handle:\n",
    "    pickle.dump(scalar, handle, protocol=pickle.HIGHEST_PROTOCOL)"
   ]
  }
 ],
 "metadata": {
  "kernelspec": {
   "display_name": "Python 3",
   "language": "python",
   "name": "python3"
  },
  "language_info": {
   "codemirror_mode": {
    "name": "ipython",
    "version": 3
   },
   "file_extension": ".py",
   "mimetype": "text/x-python",
   "name": "python",
   "nbconvert_exporter": "python",
   "pygments_lexer": "ipython3",
   "version": "3.7.0"
  }
 },
 "nbformat": 4,
 "nbformat_minor": 2
}
