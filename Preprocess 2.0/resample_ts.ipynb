{
 "cells": [
  {
   "cell_type": "code",
   "execution_count": 1,
   "metadata": {},
   "outputs": [],
   "source": [
    "import numpy as np\n",
    "import pandas as pd\n",
    "import pickle\n",
    "import os\n",
    "import timeit\n",
    "import matplotlib.pyplot as plt\n",
    "from matplotlib.pyplot import figure\n",
    "import sys\n",
    "lib = __import__(\"ihm_lib\") #Provided by [1]\n",
    "\n",
    "''' Map/resample TS'''\n",
    "def map_ts(index, data, Hours):\n",
    "    X = data[index]\n",
    "    X_hat = pd.DataFrame(np.full([Hours.shape[0],len(X.columns)], np.nan))\n",
    "    X_hat.columns = X.columns\n",
    "    X_hat['Hours'] = pd.Series(Hours)\n",
    "    mapping = [[min(range(len(X_hat)), key=lambda i: abs(X_hat['Hours'][i]-element))] for element in X['Hours']]\n",
    "    mapping = np.array([mapping[idx][0] for idx in range(len(mapping))])\n",
    "    unique_mapping = np.unique(mapping)\n",
    "    indices = [np.where(mapping==element)[0] for element in unique_mapping]\n",
    "    indices = dict(zip(unique_mapping, indices))\n",
    "    keys = np.array(list(indices.keys()))\n",
    "    for key,values in indices.items():\n",
    "        for i in range(1, X.shape[1]):\n",
    "            X_hat.iloc[key,i] = np.mean(X.iloc[values,i])\n",
    "    return X,X_hat,pd.isna(X_hat),indices"
   ]
  },
  {
   "cell_type": "code",
   "execution_count": 9,
   "metadata": {},
   "outputs": [],
   "source": [
    "path = 'Path to Train and Test IHM Pickle Files after reading'\n",
    "with open(path +'train_ihm.pickle', 'rb') as handle:\n",
    "    train = pickle.load(handle)\n",
    "with open(path + 'test_ihm.pickle', 'rb') as handle:\n",
    "    test = pickle.load(handle)\n",
    "train = [train[idx].iloc[:,[0,2,9,11,12,13,14]] for idx in range(len(train))]\n",
    "test = [test[idx].iloc[:,[0,2,9,11,12,13,14]] for idx in range(len(test))]\n",
    "Hours = np.round(np.arange(1, 49 , dtype=float))\n",
    "train_data = [ map_ts(index, train, Hours) for index in range(len(train))]\n",
    "test_data = [ map_ts(index, test, Hours) for index in range(len(test))]\n",
    "with open('final_train_ihm.pickle', 'wb') as handle:\n",
    "    pickle.dump(train_data, handle, protocol=pickle.HIGHEST_PROTOCOL)\n",
    "with open('final_test_ihm.pickle', 'wb') as handle:\n",
    "    pickle.dump(test_data, handle, protocol=pickle.HIGHEST_PROTOCOL)"
   ]
  }
 ],
 "metadata": {
  "kernelspec": {
   "display_name": "Python 3",
   "language": "python",
   "name": "python3"
  },
  "language_info": {
   "codemirror_mode": {
    "name": "ipython",
    "version": 3
   },
   "file_extension": ".py",
   "mimetype": "text/x-python",
   "name": "python",
   "nbconvert_exporter": "python",
   "pygments_lexer": "ipython3",
   "version": "3.7.0"
  }
 },
 "nbformat": 4,
 "nbformat_minor": 2
}
